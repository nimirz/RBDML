{
 "cells": [
  {
   "cell_type": "markdown",
   "metadata": {},
   "source": [
    "### Classification"
   ]
  },
  {
   "cell_type": "code",
   "execution_count": 2,
   "metadata": {},
   "outputs": [],
   "source": [
    "import pandas as pd\n",
    "import numpy as np"
   ]
  },
  {
   "cell_type": "markdown",
   "metadata": {},
   "source": [
    "### 1. Get output from clustering"
   ]
  },
  {
   "cell_type": "code",
   "execution_count": 377,
   "metadata": {},
   "outputs": [
    {
     "data": {
      "text/html": [
       "<div>\n",
       "<style scoped>\n",
       "    .dataframe tbody tr th:only-of-type {\n",
       "        vertical-align: middle;\n",
       "    }\n",
       "\n",
       "    .dataframe tbody tr th {\n",
       "        vertical-align: top;\n",
       "    }\n",
       "\n",
       "    .dataframe thead th {\n",
       "        text-align: right;\n",
       "    }\n",
       "</style>\n",
       "<table border=\"1\" class=\"dataframe\">\n",
       "  <thead>\n",
       "    <tr style=\"text-align: right;\">\n",
       "      <th></th>\n",
       "      <th>disease</th>\n",
       "      <th>country</th>\n",
       "      <th>year</th>\n",
       "      <th>month</th>\n",
       "      <th>label</th>\n",
       "      <th>date</th>\n",
       "      <th>label_names</th>\n",
       "    </tr>\n",
       "  </thead>\n",
       "  <tbody>\n",
       "    <tr>\n",
       "      <th>0</th>\n",
       "      <td>Hantavirus</td>\n",
       "      <td>Austria</td>\n",
       "      <td>2008</td>\n",
       "      <td>1</td>\n",
       "      <td>0</td>\n",
       "      <td>2008-01-01</td>\n",
       "      <td>0</td>\n",
       "    </tr>\n",
       "    <tr>\n",
       "      <th>1</th>\n",
       "      <td>Hantavirus</td>\n",
       "      <td>Austria</td>\n",
       "      <td>2008</td>\n",
       "      <td>2</td>\n",
       "      <td>0</td>\n",
       "      <td>2008-02-01</td>\n",
       "      <td>0</td>\n",
       "    </tr>\n",
       "    <tr>\n",
       "      <th>2</th>\n",
       "      <td>Hantavirus</td>\n",
       "      <td>Austria</td>\n",
       "      <td>2008</td>\n",
       "      <td>3</td>\n",
       "      <td>0</td>\n",
       "      <td>2008-03-01</td>\n",
       "      <td>0</td>\n",
       "    </tr>\n",
       "    <tr>\n",
       "      <th>3</th>\n",
       "      <td>Hantavirus</td>\n",
       "      <td>Austria</td>\n",
       "      <td>2008</td>\n",
       "      <td>4</td>\n",
       "      <td>0</td>\n",
       "      <td>2008-04-01</td>\n",
       "      <td>0</td>\n",
       "    </tr>\n",
       "    <tr>\n",
       "      <th>4</th>\n",
       "      <td>Hantavirus</td>\n",
       "      <td>Austria</td>\n",
       "      <td>2008</td>\n",
       "      <td>5</td>\n",
       "      <td>0</td>\n",
       "      <td>2008-05-01</td>\n",
       "      <td>0</td>\n",
       "    </tr>\n",
       "  </tbody>\n",
       "</table>\n",
       "</div>"
      ],
      "text/plain": [
       "      disease  country  year  month  label       date label_names\n",
       "0  Hantavirus  Austria  2008      1      0 2008-01-01           0\n",
       "1  Hantavirus  Austria  2008      2      0 2008-02-01           0\n",
       "2  Hantavirus  Austria  2008      3      0 2008-03-01           0\n",
       "3  Hantavirus  Austria  2008      4      0 2008-04-01           0\n",
       "4  Hantavirus  Austria  2008      5      0 2008-05-01           0"
      ]
     },
     "execution_count": 377,
     "metadata": {},
     "output_type": "execute_result"
    }
   ],
   "source": [
    "df = pd.read_csv('../../output/outbreak_groups.csv')\n",
    "df = df[['disease', 'country', 'year', 'month', 'peak_group']]\n",
    "df = df.rename(columns={'peak_group': 'label'})\n",
    "df['date'] = pd.to_datetime(df['year'].astype('str') + '-' + df['month'].astype('str') + '-' + '1')\n",
    "df['label_names'] = df.label.astype(str)\n",
    "df.head()"
   ]
  },
  {
   "cell_type": "markdown",
   "metadata": {},
   "source": [
    "What is the distribution of the classes?"
   ]
  },
  {
   "cell_type": "code",
   "execution_count": 384,
   "metadata": {},
   "outputs": [
    {
     "data": {
      "text/plain": [
       "<Axes: xlabel='label_names', ylabel='Count'>"
      ]
     },
     "execution_count": 384,
     "metadata": {},
     "output_type": "execute_result"
    },
    {
     "data": {
      "image/png": "[encoded data removed]",
      "text/plain": [
       "<Figure size 500x500 with 1 Axes>"
      ]
     },
     "metadata": {},
     "output_type": "display_data"
    }
   ],
   "source": [
    "import seaborn as sns\n",
    "import matplotlib.pyplot as plt\n",
    "\n",
    "fig, ax = plt.subplots(figsize=(5, 5))\n",
    "#df.set_index('label').plot(kind='bar', stacked=True) ## Plot\n",
    "#plt.ticklabel_format(style='plain', useOffset=False, axis='y') ## No offset\n",
    "#plt.gca().set_ylabel(\"Total $'s\") ## Set Y-axis\n",
    "#df.T.plot.bar(df.label, stacked=True, figsize=(12,6))\n",
    "sns.histplot(data=df, x='label_names', hue='country', stat='count', multiple='stack')"
   ]
  },
  {
   "cell_type": "markdown",
   "metadata": {},
   "source": [
    "### 2. Get climate data"
   ]
  },
  {
   "cell_type": "code",
   "execution_count": 274,
   "metadata": {},
   "outputs": [
    {
     "data": {
      "text/html": [
       "<div>\n",
       "<style scoped>\n",
       "    .dataframe tbody tr th:only-of-type {\n",
       "        vertical-align: middle;\n",
       "    }\n",
       "\n",
       "    .dataframe tbody tr th {\n",
       "        vertical-align: top;\n",
       "    }\n",
       "\n",
       "    .dataframe thead th {\n",
       "        text-align: right;\n",
       "    }\n",
       "</style>\n",
       "<table border=\"1\" class=\"dataframe\">\n",
       "  <thead>\n",
       "    <tr style=\"text-align: right;\">\n",
       "      <th></th>\n",
       "      <th>country</th>\n",
       "      <th>ADM0_CODE</th>\n",
       "      <th>adm1</th>\n",
       "      <th>ADM1_CODE</th>\n",
       "      <th>year</th>\n",
       "      <th>month</th>\n",
       "      <th>value</th>\n",
       "      <th>measure</th>\n",
       "      <th>unit</th>\n",
       "    </tr>\n",
       "  </thead>\n",
       "  <tbody>\n",
       "    <tr>\n",
       "      <th>0</th>\n",
       "      <td>Finland</td>\n",
       "      <td>84</td>\n",
       "      <td>Aaland</td>\n",
       "      <td>16218.0</td>\n",
       "      <td>2000</td>\n",
       "      <td>2</td>\n",
       "      <td>-0.862194</td>\n",
       "      <td>mean_lst</td>\n",
       "      <td>celcius</td>\n",
       "    </tr>\n",
       "    <tr>\n",
       "      <th>1</th>\n",
       "      <td>Finland</td>\n",
       "      <td>84</td>\n",
       "      <td>Aaland</td>\n",
       "      <td>16218.0</td>\n",
       "      <td>2000</td>\n",
       "      <td>3</td>\n",
       "      <td>0.107945</td>\n",
       "      <td>mean_lst</td>\n",
       "      <td>celcius</td>\n",
       "    </tr>\n",
       "    <tr>\n",
       "      <th>2</th>\n",
       "      <td>Finland</td>\n",
       "      <td>84</td>\n",
       "      <td>Aaland</td>\n",
       "      <td>16218.0</td>\n",
       "      <td>2000</td>\n",
       "      <td>4</td>\n",
       "      <td>8.330545</td>\n",
       "      <td>mean_lst</td>\n",
       "      <td>celcius</td>\n",
       "    </tr>\n",
       "    <tr>\n",
       "      <th>3</th>\n",
       "      <td>Finland</td>\n",
       "      <td>84</td>\n",
       "      <td>Aaland</td>\n",
       "      <td>16218.0</td>\n",
       "      <td>2000</td>\n",
       "      <td>5</td>\n",
       "      <td>13.780449</td>\n",
       "      <td>mean_lst</td>\n",
       "      <td>celcius</td>\n",
       "    </tr>\n",
       "    <tr>\n",
       "      <th>4</th>\n",
       "      <td>Finland</td>\n",
       "      <td>84</td>\n",
       "      <td>Aaland</td>\n",
       "      <td>16218.0</td>\n",
       "      <td>2000</td>\n",
       "      <td>6</td>\n",
       "      <td>15.997800</td>\n",
       "      <td>mean_lst</td>\n",
       "      <td>celcius</td>\n",
       "    </tr>\n",
       "  </tbody>\n",
       "</table>\n",
       "</div>"
      ],
      "text/plain": [
       "   country  ADM0_CODE    adm1  ADM1_CODE  year  month      value   measure  \\\n",
       "0  Finland         84  Aaland    16218.0  2000      2  -0.862194  mean_lst   \n",
       "1  Finland         84  Aaland    16218.0  2000      3   0.107945  mean_lst   \n",
       "2  Finland         84  Aaland    16218.0  2000      4   8.330545  mean_lst   \n",
       "3  Finland         84  Aaland    16218.0  2000      5  13.780449  mean_lst   \n",
       "4  Finland         84  Aaland    16218.0  2000      6  15.997800  mean_lst   \n",
       "\n",
       "      unit  \n",
       "0  celcius  \n",
       "1  celcius  \n",
       "2  celcius  \n",
       "3  celcius  \n",
       "4  celcius  "
      ]
     },
     "execution_count": 274,
     "metadata": {},
     "output_type": "execute_result"
    }
   ],
   "source": [
    "climdf = pd.read_csv('../../data/processed/climate_data.csv')"
   ]
  },
  {
   "cell_type": "code",
   "execution_count": 289,
   "metadata": {},
   "outputs": [
    {
     "data": {
      "text/html": [
       "<div>\n",
       "<style scoped>\n",
       "    .dataframe tbody tr th:only-of-type {\n",
       "        vertical-align: middle;\n",
       "    }\n",
       "\n",
       "    .dataframe tbody tr th {\n",
       "        vertical-align: top;\n",
       "    }\n",
       "\n",
       "    .dataframe thead th {\n",
       "        text-align: right;\n",
       "    }\n",
       "</style>\n",
       "<table border=\"1\" class=\"dataframe\">\n",
       "  <thead>\n",
       "    <tr style=\"text-align: right;\">\n",
       "      <th></th>\n",
       "      <th>country</th>\n",
       "      <th>month</th>\n",
       "      <th>year</th>\n",
       "      <th>measure</th>\n",
       "      <th>ADM0_CODE</th>\n",
       "      <th>ADM1_CODE</th>\n",
       "      <th>value</th>\n",
       "      <th>date</th>\n",
       "    </tr>\n",
       "  </thead>\n",
       "  <tbody>\n",
       "    <tr>\n",
       "      <th>0</th>\n",
       "      <td>Austria</td>\n",
       "      <td>1</td>\n",
       "      <td>2008</td>\n",
       "      <td>EVI</td>\n",
       "      <td>18.0</td>\n",
       "      <td>NaN</td>\n",
       "      <td>1183.920226</td>\n",
       "      <td>2008-01-01</td>\n",
       "    </tr>\n",
       "    <tr>\n",
       "      <th>1</th>\n",
       "      <td>Austria</td>\n",
       "      <td>1</td>\n",
       "      <td>2008</td>\n",
       "      <td>mean_lst</td>\n",
       "      <td>18.0</td>\n",
       "      <td>NaN</td>\n",
       "      <td>-2.430510</td>\n",
       "      <td>2008-01-01</td>\n",
       "    </tr>\n",
       "    <tr>\n",
       "      <th>2</th>\n",
       "      <td>Austria</td>\n",
       "      <td>1</td>\n",
       "      <td>2008</td>\n",
       "      <td>precipitation</td>\n",
       "      <td>18.0</td>\n",
       "      <td>NaN</td>\n",
       "      <td>59.970422</td>\n",
       "      <td>2008-01-01</td>\n",
       "    </tr>\n",
       "    <tr>\n",
       "      <th>3</th>\n",
       "      <td>Austria</td>\n",
       "      <td>1</td>\n",
       "      <td>2009</td>\n",
       "      <td>EVI</td>\n",
       "      <td>18.0</td>\n",
       "      <td>NaN</td>\n",
       "      <td>831.511961</td>\n",
       "      <td>2009-01-01</td>\n",
       "    </tr>\n",
       "    <tr>\n",
       "      <th>4</th>\n",
       "      <td>Austria</td>\n",
       "      <td>1</td>\n",
       "      <td>2009</td>\n",
       "      <td>mean_lst</td>\n",
       "      <td>18.0</td>\n",
       "      <td>NaN</td>\n",
       "      <td>-6.638863</td>\n",
       "      <td>2009-01-01</td>\n",
       "    </tr>\n",
       "  </tbody>\n",
       "</table>\n",
       "</div>"
      ],
      "text/plain": [
       "   country  month  year        measure  ADM0_CODE  ADM1_CODE        value  \\\n",
       "0  Austria      1  2008            EVI       18.0        NaN  1183.920226   \n",
       "1  Austria      1  2008       mean_lst       18.0        NaN    -2.430510   \n",
       "2  Austria      1  2008  precipitation       18.0        NaN    59.970422   \n",
       "3  Austria      1  2009            EVI       18.0        NaN   831.511961   \n",
       "4  Austria      1  2009       mean_lst       18.0        NaN    -6.638863   \n",
       "\n",
       "        date  \n",
       "0 2008-01-01  \n",
       "1 2008-01-01  \n",
       "2 2008-01-01  \n",
       "3 2009-01-01  \n",
       "4 2009-01-01  "
      ]
     },
     "execution_count": 289,
     "metadata": {},
     "output_type": "execute_result"
    }
   ],
   "source": [
    "# summary dataset\n",
    "climdf = climdf.rename(columns={'ADM0_NAME': 'country'})\n",
    "climdf = climdf.groupby(['country', 'month', 'year', 'measure']).mean('value').reset_index()\n",
    "climdf['date'] = pd.to_datetime(climdf['year'].astype('str') + '-' + climdf['month'].astype('str') + '-' + '1')\n",
    "#climdf = climdf.drop(['ADM0_CODE', 'ADM1_CODE'], axis=1)\n",
    "#climdf = climdf.set_index('date')\n",
    "climdf.head()"
   ]
  },
  {
   "cell_type": "markdown",
   "metadata": {},
   "source": [
    "### 3. Create training data array"
   ]
  },
  {
   "cell_type": "code",
   "execution_count": 387,
   "metadata": {},
   "outputs": [],
   "source": [
    "# combine climate and case dataframes\n",
    "#df = pd.merge(climdf, df)\n",
    "df['id'] = df['country'] + '_' +df['disease'] + '_' + df['month'].astype(str) + '_' + df['year'].astype(str)\n",
    "ids = np.array(df.id.unique())\n",
    "#y = [d[1].label.unique()[0] for d in df.groupby(['id'])]\n",
    "#y = np.array(y)"
   ]
  },
  {
   "cell_type": "markdown",
   "metadata": {},
   "source": [
    "Create feature list for 3-month lag data"
   ]
  },
  {
   "cell_type": "code",
   "execution_count": 428,
   "metadata": {},
   "outputs": [],
   "source": [
    "lag = 12\n",
    "measures = ['mean_lst', 'precipitation', 'EVI']\n",
    "num_measures = len(measures)\n",
    "climlist = []\n",
    "labels = []\n",
    "ids = []\n",
    "clim_dfs = []\n",
    "\n",
    "for id, d in df.groupby(['id']):\n",
    "    start_date = d.date.item() - pd.tseries.offsets.MonthBegin(lag+1)\n",
    "    end_date = d.date.item()\n",
    "    clim_select = climdf[climdf['measure'].isin(measures)]\n",
    "    # select country\n",
    "    clim_select = clim_select[(clim_select.country == d.country.item())]\n",
    "    clim_select = clim_select[(clim_select.date > start_date) & (clim_select.date < end_date)]\n",
    "    pivot_df = np.array(clim_select.pivot_table(index='month', columns='measure', values='value'))\n",
    "    if pivot_df.shape == (lag, num_measures):\n",
    "        if not np.isnan(pivot_df).any():\n",
    "            clim_dfs.append(clim_select)\n",
    "            climlist.append(pivot_df)\n",
    "            labels.append(d.label.item())\n",
    "            ids.append(d.id.item())"
   ]
  },
  {
   "cell_type": "code",
   "execution_count": 455,
   "metadata": {},
   "outputs": [],
   "source": [
    "a = np.dstack(climlist)\n",
    "X = a.T.reshape(len(climlist), num_measures, lag)\n",
    "y = np.array(labels)"
   ]
  },
  {
   "cell_type": "code",
   "execution_count": 457,
   "metadata": {},
   "outputs": [
    {
     "name": "stdout",
     "output_type": "stream",
     "text": [
      "(940, 3, 12) (940,) (464, 3, 12) (464,)\n"
     ]
    }
   ],
   "source": [
    "from sklearn.model_selection import train_test_split\n",
    "# split into train/test\n",
    "X_train, X_test, y_train, y_test = train_test_split(X, y, test_size=0.33, random_state=42)\n",
    "print(X_train.shape, y_train.shape, X_test.shape, y_test.shape)"
   ]
  },
  {
   "cell_type": "code",
   "execution_count": 458,
   "metadata": {},
   "outputs": [
    {
     "data": {
      "text/plain": [
       "False"
      ]
     },
     "execution_count": 458,
     "metadata": {},
     "output_type": "execute_result"
    }
   ],
   "source": [
    "from aeon.utils.validation import has_missing, is_equal_length, is_univariate\n",
    "has_missing(X_test)\n",
    "has_missing(X_train)"
   ]
  },
  {
   "cell_type": "markdown",
   "metadata": {},
   "source": [
    "### 4. Train Classification Model"
   ]
  },
  {
   "cell_type": "code",
   "execution_count": 221,
   "metadata": {},
   "outputs": [],
   "source": [
    "from sklearn import metrics\n",
    "\n",
    "from aeon.classification.feature_based import Catch22Classifier, FreshPRINCEClassifier\n",
    "\n",
    "from aeon.registry import all_estimators\n",
    "from aeon.transformations.collection.feature_based import Catch22"
   ]
  },
  {
   "cell_type": "code",
   "execution_count": 459,
   "metadata": {},
   "outputs": [
    {
     "data": {
      "text/plain": [
       "0.6247943722943723"
      ]
     },
     "execution_count": 459,
     "metadata": {},
     "output_type": "execute_result"
    }
   ],
   "source": [
    "from aeon.classification.convolution_based import RocketClassifier\n",
    "\n",
    "rocket = RocketClassifier(num_kernels=2000)\n",
    "rocket.fit(X_train, y_train)\n",
    "y_pred = rocket.predict(X_test)\n",
    "metrics.accuracy_score(y_test, y_pred)\n",
    "metrics.balanced_accuracy_score(y_test, y_pred)"
   ]
  },
  {
   "cell_type": "code",
   "execution_count": 466,
   "metadata": {},
   "outputs": [
    {
     "data": {
      "text/plain": [
       "0.7413793103448276"
      ]
     },
     "execution_count": 466,
     "metadata": {},
     "output_type": "execute_result"
    }
   ],
   "source": [
    "c22cls = Catch22Classifier()\n",
    "c22cls.fit(X_train, y_train)\n",
    "c22_preds = c22cls.predict(X_test)\n",
    "metrics.accuracy_score(y_test, c22_preds)"
   ]
  },
  {
   "cell_type": "code",
   "execution_count": 460,
   "metadata": {},
   "outputs": [
    {
     "data": {
      "text/plain": [
       "0.7413793103448276"
      ]
     },
     "execution_count": 460,
     "metadata": {},
     "output_type": "execute_result"
    }
   ],
   "source": [
    "fp = FreshPRINCEClassifier()\n",
    "fp.fit(X_train, y_train)\n",
    "fp_preds = fp.predict(X_test)\n",
    "metrics.accuracy_score(y_test, fp_preds)"
   ]
  },
  {
   "cell_type": "code",
   "execution_count": 465,
   "metadata": {},
   "outputs": [
    {
     "data": {
      "text/plain": [
       "0.6472510822510822"
      ]
     },
     "execution_count": 465,
     "metadata": {},
     "output_type": "execute_result"
    }
   ],
   "source": [
    "metrics.balanced_accuracy_score(y_test, fp_preds)"
   ]
  },
  {
   "cell_type": "code",
   "execution_count": 467,
   "metadata": {},
   "outputs": [
    {
     "data": {
      "image/png": "[encoded data removed]",
      "text/plain": [
       "<Figure size 640x480 with 2 Axes>"
      ]
     },
     "metadata": {},
     "output_type": "display_data"
    }
   ],
   "source": [
    "from sklearn.metrics import ConfusionMatrixDisplay\n",
    "\n",
    "\n",
    "ConfusionMatrixDisplay.from_predictions(y_test, c22_preds, normalize='true')\n",
    "\n",
    "plt.show()"
   ]
  }
 ],
 "metadata": {
  "kernelspec": {
   "display_name": "rbdml",
   "language": "python",
   "name": "python3"
  },
  "language_info": {
   "codemirror_mode": {
    "name": "ipython",
    "version": 3
   },
   "file_extension": ".py",
   "mimetype": "text/x-python",
   "name": "python",
   "nbconvert_exporter": "python",
   "pygments_lexer": "ipython3",
   "version": "3.11.7"
  }
 },
 "nbformat": 4,
 "nbformat_minor": 2
}
