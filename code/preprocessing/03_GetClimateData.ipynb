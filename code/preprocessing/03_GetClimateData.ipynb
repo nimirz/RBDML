{
 "cells": [
  {
   "cell_type": "markdown",
   "metadata": {},
   "source": [
    "## Obtaining Climate Data from Google Earth Engine\n",
    "\n",
    "To investigate how climate impacts human rodent-borne disease cases, we must obtain historical climate data for a variety of countries. The climate parameters we are interested in and the datasets we are sourcing from:\n",
    "\n",
    "Parameters used from other paper\n",
    "Tmean, minimum daily air temperature—Tmin, and maximum daily air temperature—Tmax (all temperatures are the monthly averages of the corresponding daily values, in 2 m height above ground, in °C); total precipitation in mm—Pr, total sunshine duration in hours—SD, mean monthly soil temperature in 5 cm depth under uncovered typical soil of location in °C—ST, and soil moisture under grass and sandy loam in percent plant useable water—SM. \n",
    "\n",
    "WorldClim for historical data? https://developers.google.com/earth-engine/datasets/catalog/UCSB-CHG_CHIRPS_PENTAD\n",
    "\n",
    "\n",
    "|Parameter|Dataset|Resolution|Details|Reference|\n",
    "|----|----|----|----|---|\n",
    "|Mean daily land surface temperature|MODIS MOD11A1 v061|1 km|daily temperature|https://doi.org/10.5067/MODIS/MOD11A1.061|\n",
    "|Monthly total precipitation|CHIRPS 2.0|0.05 degrees (5566 meters)|Climate hazards group InfraRed Precip wth station data. Each image represents a pentad (5 days).|hhttps://developers.google.com/earth-engine/datasets/catalog/UCSB-CHG_CHIRPS_PENTAD\n",
    "|Soil Temperature|\n",
    "|Enhaced vegetation index|MODIS Terra Vegetation 16-Day Global 1km|"
   ]
  },
  {
   "cell_type": "code",
   "execution_count": 495,
   "metadata": {},
   "outputs": [
    {
     "data": {
      "text/html": [
       "\n",
       "            <style>\n",
       "                .geemap-dark {\n",
       "                    --jp-widgets-color: white;\n",
       "                    --jp-widgets-label-color: white;\n",
       "                    --jp-ui-font-color1: white;\n",
       "                    --jp-layout-color2: #454545;\n",
       "                    background-color: #383838;\n",
       "                }\n",
       "                    \n",
       "                .geemap-dark .jupyter-button {\n",
       "                    --jp-layout-color3: #383838;\n",
       "                }\n",
       "                \n",
       "                .geemap-colab {\n",
       "                    background-color: var(--colab-primary-surface-color, white);\n",
       "                }\n",
       "                    \n",
       "                .geemap-colab .jupyter-button {\n",
       "                    --jp-layout-color3: var(--colab-primary-surface-color, white);\n",
       "                }\n",
       "            </style>\n",
       "            "
      ],
      "text/plain": [
       "<IPython.core.display.HTML object>"
      ]
     },
     "metadata": {},
     "output_type": "display_data"
    }
   ],
   "source": [
    "# import packages\n",
    "import ee\n",
    "from datetime import datetime\n",
    "import pandas as pd\n",
    "import geopandas as gpd\n",
    "import matplotlib.pyplot as plt\n",
    "import os\n",
    "import geemap\n",
    "import csv"
   ]
  },
  {
   "cell_type": "markdown",
   "metadata": {},
   "source": [
    "Initialize Earth Engine. If first time using GEE in notebook setup, make sure that a project has been created and your account as been added, then run the authenticate command to link your account. Additionally, set up the working directory. Enter the authorization code you receive from google into the box. "
   ]
  },
  {
   "cell_type": "code",
   "execution_count": 496,
   "metadata": {},
   "outputs": [
    {
     "data": {
      "text/html": [
       "\n",
       "            <style>\n",
       "                .geemap-dark {\n",
       "                    --jp-widgets-color: white;\n",
       "                    --jp-widgets-label-color: white;\n",
       "                    --jp-ui-font-color1: white;\n",
       "                    --jp-layout-color2: #454545;\n",
       "                    background-color: #383838;\n",
       "                }\n",
       "                    \n",
       "                .geemap-dark .jupyter-button {\n",
       "                    --jp-layout-color3: #383838;\n",
       "                }\n",
       "                \n",
       "                .geemap-colab {\n",
       "                    background-color: var(--colab-primary-surface-color, white);\n",
       "                }\n",
       "                    \n",
       "                .geemap-colab .jupyter-button {\n",
       "                    --jp-layout-color3: var(--colab-primary-surface-color, white);\n",
       "                }\n",
       "            </style>\n",
       "            "
      ],
      "text/plain": [
       "<IPython.core.display.HTML object>"
      ]
     },
     "metadata": {},
     "output_type": "display_data"
    },
    {
     "data": {
      "text/html": [
       "<p>To authorize access needed by Earth Engine, open the following\n",
       "        URL in a web browser and follow the instructions:</p>\n",
       "        <p><a href=https://code.earthengine.google.com/client-auth?scopes=https%3A//www.googleapis.com/auth/earthengine%20https%3A//www.googleapis.com/auth/devstorage.full_control&request_id=rJEAam1jmrBdBHGsEeJ8U2qYsFKQBJQqyd3wmpRQbi0&tc=u1Atq8JnxaTi18hwwzHOM0StJT62Z-UWxsk_-CHT1lo&cc=WlTGNnCUmglQEw73vJsWHTE5bcfli-aDG0daxHCoDFo>https://code.earthengine.google.com/client-auth?scopes=https%3A//www.googleapis.com/auth/earthengine%20https%3A//www.googleapis.com/auth/devstorage.full_control&request_id=rJEAam1jmrBdBHGsEeJ8U2qYsFKQBJQqyd3wmpRQbi0&tc=u1Atq8JnxaTi18hwwzHOM0StJT62Z-UWxsk_-CHT1lo&cc=WlTGNnCUmglQEw73vJsWHTE5bcfli-aDG0daxHCoDFo</a></p>\n",
       "        <p>The authorization workflow will generate a code, which you should paste in the box below.</p>\n",
       "        "
      ],
      "text/plain": [
       "<IPython.core.display.HTML object>"
      ]
     },
     "metadata": {},
     "output_type": "display_data"
    },
    {
     "name": "stdout",
     "output_type": "stream",
     "text": [
      "\n",
      "Successfully saved authorization token.\n"
     ]
    }
   ],
   "source": [
    "ee.Authenticate()\n",
    "ee.Initialize()\n",
    "\n",
    "wd = '~/Projects/RBDML'"
   ]
  },
  {
   "cell_type": "markdown",
   "metadata": {},
   "source": [
    "### Define Regions of Interest\n",
    "\n",
    "The case data for hantavirus and lassa fever only focus on the following countries based on the listed criteria. We will be downloading gridded raster for the climate parameters \n",
    "\n",
    "Country inclusion criteria:\n",
    "- More than 10 cases in one month\n",
    "- More than 300 total cases across all years\n",
    "\n",
    "Countries included:"
   ]
  },
  {
   "cell_type": "code",
   "execution_count": 373,
   "metadata": {},
   "outputs": [
    {
     "data": {
      "text/html": [
       "\n",
       "            <style>\n",
       "                .geemap-dark {\n",
       "                    --jp-widgets-color: white;\n",
       "                    --jp-widgets-label-color: white;\n",
       "                    --jp-ui-font-color1: white;\n",
       "                    --jp-layout-color2: #454545;\n",
       "                    background-color: #383838;\n",
       "                }\n",
       "                    \n",
       "                .geemap-dark .jupyter-button {\n",
       "                    --jp-layout-color3: #383838;\n",
       "                }\n",
       "                \n",
       "                .geemap-colab {\n",
       "                    background-color: var(--colab-primary-surface-color, white);\n",
       "                }\n",
       "                    \n",
       "                .geemap-colab .jupyter-button {\n",
       "                    --jp-layout-color3: var(--colab-primary-surface-color, white);\n",
       "                }\n",
       "            </style>\n",
       "            "
      ],
      "text/plain": [
       "<IPython.core.display.HTML object>"
      ]
     },
     "metadata": {},
     "output_type": "display_data"
    },
    {
     "data": {
      "text/html": [
       "<div>\n",
       "<style scoped>\n",
       "    .dataframe tbody tr th:only-of-type {\n",
       "        vertical-align: middle;\n",
       "    }\n",
       "\n",
       "    .dataframe tbody tr th {\n",
       "        vertical-align: top;\n",
       "    }\n",
       "\n",
       "    .dataframe thead th {\n",
       "        text-align: right;\n",
       "    }\n",
       "</style>\n",
       "<table border=\"1\" class=\"dataframe\">\n",
       "  <thead>\n",
       "    <tr style=\"text-align: right;\">\n",
       "      <th></th>\n",
       "      <th>country</th>\n",
       "      <th>FIPS</th>\n",
       "      <th>minyear</th>\n",
       "      <th>maxyear</th>\n",
       "      <th>max_monthly_cases</th>\n",
       "      <th>total_cases</th>\n",
       "    </tr>\n",
       "  </thead>\n",
       "  <tbody>\n",
       "    <tr>\n",
       "      <th>0</th>\n",
       "      <td>Austria</td>\n",
       "      <td>AU</td>\n",
       "      <td>2008</td>\n",
       "      <td>2021</td>\n",
       "      <td>46</td>\n",
       "      <td>1134</td>\n",
       "    </tr>\n",
       "    <tr>\n",
       "      <th>1</th>\n",
       "      <td>Brazil</td>\n",
       "      <td>BR</td>\n",
       "      <td>2001</td>\n",
       "      <td>2020</td>\n",
       "      <td>66</td>\n",
       "      <td>577048</td>\n",
       "    </tr>\n",
       "    <tr>\n",
       "      <th>2</th>\n",
       "      <td>Chile</td>\n",
       "      <td>CI</td>\n",
       "      <td>1995</td>\n",
       "      <td>2022</td>\n",
       "      <td>19</td>\n",
       "      <td>9511</td>\n",
       "    </tr>\n",
       "    <tr>\n",
       "      <th>3</th>\n",
       "      <td>China</td>\n",
       "      <td>CH</td>\n",
       "      <td>2004</td>\n",
       "      <td>2023</td>\n",
       "      <td>4189</td>\n",
       "      <td>228738</td>\n",
       "    </tr>\n",
       "    <tr>\n",
       "      <th>4</th>\n",
       "      <td>Finland</td>\n",
       "      <td>FI</td>\n",
       "      <td>1995</td>\n",
       "      <td>2023</td>\n",
       "      <td>1596</td>\n",
       "      <td>2025954</td>\n",
       "    </tr>\n",
       "    <tr>\n",
       "      <th>5</th>\n",
       "      <td>France</td>\n",
       "      <td>FR</td>\n",
       "      <td>2011</td>\n",
       "      <td>2021</td>\n",
       "      <td>92</td>\n",
       "      <td>1357</td>\n",
       "    </tr>\n",
       "    <tr>\n",
       "      <th>6</th>\n",
       "      <td>Germany</td>\n",
       "      <td>GM</td>\n",
       "      <td>2001</td>\n",
       "      <td>2023</td>\n",
       "      <td>1639</td>\n",
       "      <td>33564817</td>\n",
       "    </tr>\n",
       "    <tr>\n",
       "      <th>7</th>\n",
       "      <td>Nigeria</td>\n",
       "      <td>NI</td>\n",
       "      <td>2012</td>\n",
       "      <td>2023</td>\n",
       "      <td>469</td>\n",
       "      <td>213120</td>\n",
       "    </tr>\n",
       "    <tr>\n",
       "      <th>8</th>\n",
       "      <td>Norway</td>\n",
       "      <td>NO</td>\n",
       "      <td>2008</td>\n",
       "      <td>2021</td>\n",
       "      <td>12</td>\n",
       "      <td>334</td>\n",
       "    </tr>\n",
       "    <tr>\n",
       "      <th>9</th>\n",
       "      <td>Slovakia</td>\n",
       "      <td>LO</td>\n",
       "      <td>2008</td>\n",
       "      <td>2021</td>\n",
       "      <td>34</td>\n",
       "      <td>470</td>\n",
       "    </tr>\n",
       "    <tr>\n",
       "      <th>10</th>\n",
       "      <td>Slovenia</td>\n",
       "      <td>SI</td>\n",
       "      <td>2008</td>\n",
       "      <td>2021</td>\n",
       "      <td>213</td>\n",
       "      <td>1240</td>\n",
       "    </tr>\n",
       "    <tr>\n",
       "      <th>11</th>\n",
       "      <td>Sweden</td>\n",
       "      <td>SW</td>\n",
       "      <td>2008</td>\n",
       "      <td>2023</td>\n",
       "      <td>209</td>\n",
       "      <td>106157</td>\n",
       "    </tr>\n",
       "    <tr>\n",
       "      <th>12</th>\n",
       "      <td>United States of America</td>\n",
       "      <td>US</td>\n",
       "      <td>1993</td>\n",
       "      <td>2021</td>\n",
       "      <td>12</td>\n",
       "      <td>2591</td>\n",
       "    </tr>\n",
       "  </tbody>\n",
       "</table>\n",
       "</div>"
      ],
      "text/plain": [
       "                     country FIPS  minyear  maxyear  max_monthly_cases  \\\n",
       "0                    Austria   AU     2008     2021                 46   \n",
       "1                     Brazil   BR     2001     2020                 66   \n",
       "2                      Chile   CI     1995     2022                 19   \n",
       "3                      China   CH     2004     2023               4189   \n",
       "4                    Finland   FI     1995     2023               1596   \n",
       "5                     France   FR     2011     2021                 92   \n",
       "6                    Germany   GM     2001     2023               1639   \n",
       "7                    Nigeria   NI     2012     2023                469   \n",
       "8                     Norway   NO     2008     2021                 12   \n",
       "9                   Slovakia   LO     2008     2021                 34   \n",
       "10                  Slovenia   SI     2008     2021                213   \n",
       "11                    Sweden   SW     2008     2023                209   \n",
       "12  United States of America   US     1993     2021                 12   \n",
       "\n",
       "    total_cases  \n",
       "0          1134  \n",
       "1        577048  \n",
       "2          9511  \n",
       "3        228738  \n",
       "4       2025954  \n",
       "5          1357  \n",
       "6      33564817  \n",
       "7        213120  \n",
       "8           334  \n",
       "9           470  \n",
       "10         1240  \n",
       "11       106157  \n",
       "12         2591  "
      ]
     },
     "execution_count": 373,
     "metadata": {},
     "output_type": "execute_result"
    }
   ],
   "source": [
    "# import csv with regions and date ranges\n",
    "df = pd.read_csv(os.path.join(wd, 'data/human/processed/country_list.csv'))\n",
    "#df.set_index('country', inplace=True)\n",
    "df"
   ]
  },
  {
   "cell_type": "markdown",
   "metadata": {},
   "source": [
    "### 1. Obtain Land Surface Temperature (LST)\n",
    "\n",
    "First we will define the functions needed:"
   ]
  },
  {
   "cell_type": "code",
   "execution_count": 528,
   "metadata": {},
   "outputs": [
    {
     "data": {
      "text/html": [
       "\n",
       "            <style>\n",
       "                .geemap-dark {\n",
       "                    --jp-widgets-color: white;\n",
       "                    --jp-widgets-label-color: white;\n",
       "                    --jp-ui-font-color1: white;\n",
       "                    --jp-layout-color2: #454545;\n",
       "                    background-color: #383838;\n",
       "                }\n",
       "                    \n",
       "                .geemap-dark .jupyter-button {\n",
       "                    --jp-layout-color3: #383838;\n",
       "                }\n",
       "                \n",
       "                .geemap-colab {\n",
       "                    background-color: var(--colab-primary-surface-color, white);\n",
       "                }\n",
       "                    \n",
       "                .geemap-colab .jupyter-button {\n",
       "                    --jp-layout-color3: var(--colab-primary-surface-color, white);\n",
       "                }\n",
       "            </style>\n",
       "            "
      ],
      "text/plain": [
       "<IPython.core.display.HTML object>"
      ]
     },
     "metadata": {},
     "output_type": "display_data"
    }
   ],
   "source": [
    "def scaleAndMask(img):\n",
    "    '''\n",
    "        Takes in an image and returns the the day LST in celcius, masked by quality.\n",
    "    '''\n",
    "    # Select the QA bands\n",
    "    qc = img.select('QC_Day')\n",
    "\n",
    "    # Create masks:\n",
    "    qa_flag_mask = qc.bitwiseAnd(0b11).lt(2) # Bits 0-1 <= 1; good or other quality\n",
    "    data_quality_mask = qc.bitwiseAnd(0b1100).rightShift(2).eq(0) # Bits 2-3 = 0; good data quality\n",
    "\n",
    "    good_qc = qa_flag_mask.And(data_quality_mask)\n",
    "\n",
    "    return(img.select('LST_Day_1km')\n",
    "           .multiply(0.02) # convert from Kelvin\n",
    "           .subtract(273.15)\n",
    "           .updateMask(good_qc)\n",
    "           .copyProperties(img, ['system:time_start']))\n",
    "\n",
    "def eviMask(img):\n",
    "    '''\n",
    "        Takes in an image and returns the the day LST in celcius, masked by quality.\n",
    "    '''\n",
    "    # Select the QA bands\n",
    "    qc = img.select('SummaryQA')\n",
    "\n",
    "    # Create masks:\n",
    "    qa_flag_mask = qc.bitwiseAnd(1 << 0).eq(0) # left-shift: only looking at last bit -> if 0 good quality\n",
    "\n",
    "    return(img.select('EVI')\n",
    "           .updateMask(qa_flag_mask)\n",
    "           .copyProperties(img, ['system:time_start']))\n",
    "\n",
    "\n",
    "\n",
    "def sumMonthlyComposite(collection, date):\n",
    "    '''\n",
    "        Calculate the sum for a month for an image.\n",
    "    '''\n",
    "    date = ee.Date(date)\n",
    "    return (collection\n",
    "            .filterDate(date, date.advance(1, 'month'))\n",
    "            .sum()\n",
    "            .set(\"month\", date.format(\"MM\"))\n",
    "            .set(\"year\", date.format(\"YYYY\"))\n",
    "            .set(\"system:index\", date.format(\"MM-YYYY\")))\n",
    "\n",
    "def meanMonthlyComposite(collection, date):\n",
    "    '''\n",
    "        Calculate the mean for a month for an image.\n",
    "    '''\n",
    "    date = ee.Date(date)\n",
    "    return (collection\n",
    "            .filterDate(date, date.advance(1, 'month'))\n",
    "            .mean()\n",
    "            .set(\"month\", date.format(\"MM\"))\n",
    "            .set(\"year\", date.format(\"YYYY\"))\n",
    "            .set(\"system:index\", date.format(\"MM-YYYY\")))\n",
    "\n",
    "\n",
    "def fcToDict(fc):\n",
    "  '''\n",
    "    Turns a feature collection into a dictionary. \n",
    "  '''\n",
    "  prop_names = fc.first().propertyNames()\n",
    "  prop_lists = fc.reduceColumns(\n",
    "      reducer=ee.Reducer.toList().repeat(prop_names.size()),\n",
    "      selectors=prop_names).get('list')\n",
    "\n",
    "  return ee.Dictionary.fromLists(prop_names, prop_lists)"
   ]
  },
  {
   "cell_type": "markdown",
   "metadata": {},
   "source": [
    "Next we need to create a list of the countries we will be using and load image collection."
   ]
  },
  {
   "cell_type": "code",
   "execution_count": 358,
   "metadata": {},
   "outputs": [
    {
     "data": {
      "text/html": [
       "\n",
       "            <style>\n",
       "                .geemap-dark {\n",
       "                    --jp-widgets-color: white;\n",
       "                    --jp-widgets-label-color: white;\n",
       "                    --jp-ui-font-color1: white;\n",
       "                    --jp-layout-color2: #454545;\n",
       "                    background-color: #383838;\n",
       "                }\n",
       "                    \n",
       "                .geemap-dark .jupyter-button {\n",
       "                    --jp-layout-color3: #383838;\n",
       "                }\n",
       "                \n",
       "                .geemap-colab {\n",
       "                    background-color: var(--colab-primary-surface-color, white);\n",
       "                }\n",
       "                    \n",
       "                .geemap-colab .jupyter-button {\n",
       "                    --jp-layout-color3: var(--colab-primary-surface-color, white);\n",
       "                }\n",
       "            </style>\n",
       "            "
      ],
      "text/plain": [
       "<IPython.core.display.HTML object>"
      ]
     },
     "metadata": {},
     "output_type": "display_data"
    }
   ],
   "source": [
    "# Feature Collection for list of countries\n",
    "# Using the FAO GAUL Admin Layers: https://developers.google.com/earth-engine/datasets/catalog/FAO_GAUL_2015_level0#table-schema\n",
    "# Export for admin 1 level for all \n",
    "#countries = ee.Filter.inList('ADM0_NAME', list(df['country'])[0]) # using FIPS country code\n",
    "#regions = ee.FeatureCollection('FAO/GAUL/2015/level1').filter(countries)\n",
    "\n",
    "# Dates required\n",
    "year = '2012'\n",
    "start = ee.Date('2012-01-01')\n",
    "end = ee.Date('2013-01-01')\n",
    "\n",
    "# Image collection\n",
    "# Import the MODIS land surface temperature collection.\n",
    "#collection = ee.ImageCollection('MODIS/006/MOD11A1').filterDate(start,end).map(scaleAndMask)"
   ]
  },
  {
   "cell_type": "markdown",
   "metadata": {},
   "source": [
    "### Export daily LST"
   ]
  },
  {
   "cell_type": "code",
   "execution_count": 490,
   "metadata": {},
   "outputs": [
    {
     "data": {
      "text/html": [
       "\n",
       "            <style>\n",
       "                .geemap-dark {\n",
       "                    --jp-widgets-color: white;\n",
       "                    --jp-widgets-label-color: white;\n",
       "                    --jp-ui-font-color1: white;\n",
       "                    --jp-layout-color2: #454545;\n",
       "                    background-color: #383838;\n",
       "                }\n",
       "                    \n",
       "                .geemap-dark .jupyter-button {\n",
       "                    --jp-layout-color3: #383838;\n",
       "                }\n",
       "                \n",
       "                .geemap-colab {\n",
       "                    background-color: var(--colab-primary-surface-color, white);\n",
       "                }\n",
       "                    \n",
       "                .geemap-colab .jupyter-button {\n",
       "                    --jp-layout-color3: var(--colab-primary-surface-color, white);\n",
       "                }\n",
       "            </style>\n",
       "            "
      ],
      "text/plain": [
       "<IPython.core.display.HTML object>"
      ]
     },
     "metadata": {},
     "output_type": "display_data"
    },
    {
     "name": "stdout",
     "output_type": "stream",
     "text": [
      "Starting task for Austria\n",
      "Starting task for Brazil\n",
      "Starting task for Chile\n",
      "Starting task for China\n",
      "Starting task for Finland\n",
      "Starting task for France\n",
      "Starting task for Germany\n",
      "Starting task for Nigeria\n",
      "Starting task for Norway\n",
      "Starting task for Slovakia\n",
      "Starting task for Slovenia\n",
      "Starting task for Sweden\n",
      "Starting task for United States of America\n"
     ]
    }
   ],
   "source": [
    "collection = ee.ImageCollection('MODIS/006/MOD11A1').map(scaleAndMask)\n",
    "collection_min_date = ee.Date(collection.aggregate_min('system:time_start'))\n",
    "collection_max_date = ee.Date(collection.aggregate_max('system:time_start'))\n",
    "\n",
    "for country in df['country']:\n",
    "    # define date range\n",
    "    start = ee.Date.fromYMD(df.loc[df['country'] == country, 'minyear'].item(), 1, 1)\n",
    "    end = ee.Date.fromYMD(df.loc[df['country'] == country, 'maxyear'].item(), 12, 31)\n",
    "\n",
    "    # if dates are outside of collection range\n",
    "    if start.difference(collection_min_date, 'days').getInfo() < 0: start = collection_min_date\n",
    "    if end.difference(collection_max_date, 'days').getInfo() > 0: end = collection_max_date\n",
    "    \n",
    "    region = ee.FeatureCollection('FAO/GAUL/2015/level1').filter(ee.Filter.eq('ADM0_NAME', country))\n",
    "    daily_lst_filtered = collection.filterDate(start, end)\n",
    "\n",
    "    # Determine mean for admin region\n",
    "    daily_lst = daily_lst_filtered.map(lambda image: image.reduceRegions(\n",
    "        reducer=ee.Reducer.mean().setOutputs(['mean_lst']),\n",
    "        collection=region,\n",
    "        scale=1000\n",
    "    )).flatten()\n",
    "\n",
    "    # Export the FeatureCollection to Google Drive as a CSV file\n",
    "    task = ee.batch.Export.table.toDrive(\n",
    "        collection=daily_lst,\n",
    "        description=country+'_DailyLST',\n",
    "        fileFormat='CSV',\n",
    "        folder='test',\n",
    "        selectors=['system:index', 'ADM0_CODE',\t'ADM0_NAME', 'ADM1_CODE', 'ADM1_NAME', 'mean_lst']\n",
    "    )\n",
    "\n",
    "    # Start the export task\n",
    "    task.start()\n",
    "    print('Starting task for '+ country)"
   ]
  },
  {
   "cell_type": "markdown",
   "metadata": {},
   "source": [
    "## Precipitation Data"
   ]
  },
  {
   "cell_type": "code",
   "execution_count": 532,
   "metadata": {},
   "outputs": [
    {
     "data": {
      "text/html": [
       "\n",
       "            <style>\n",
       "                .geemap-dark {\n",
       "                    --jp-widgets-color: white;\n",
       "                    --jp-widgets-label-color: white;\n",
       "                    --jp-ui-font-color1: white;\n",
       "                    --jp-layout-color2: #454545;\n",
       "                    background-color: #383838;\n",
       "                }\n",
       "                    \n",
       "                .geemap-dark .jupyter-button {\n",
       "                    --jp-layout-color3: #383838;\n",
       "                }\n",
       "                \n",
       "                .geemap-colab {\n",
       "                    background-color: var(--colab-primary-surface-color, white);\n",
       "                }\n",
       "                    \n",
       "                .geemap-colab .jupyter-button {\n",
       "                    --jp-layout-color3: var(--colab-primary-surface-color, white);\n",
       "                }\n",
       "            </style>\n",
       "            "
      ],
      "text/plain": [
       "<IPython.core.display.HTML object>"
      ]
     },
     "metadata": {},
     "output_type": "display_data"
    },
    {
     "name": "stdout",
     "output_type": "stream",
     "text": [
      "Starting task for Brazil\n",
      "Starting task for Chile\n"
     ]
    }
   ],
   "source": [
    "collection = ee.ImageCollection('UCSB-CHG/CHIRPS/DAILY')\n",
    "collection_min_date = ee.Date(collection.aggregate_min('system:time_start'))\n",
    "collection_max_date = ee.Date(collection.aggregate_max('system:time_start'))\n",
    "\n",
    "for country in ['Brazil', 'Chile']:\n",
    "    # define date range\n",
    "    start = ee.Date.fromYMD(df.loc[df['country'] == country, 'minyear'].item(), 1, 1)\n",
    "    end = ee.Date.fromYMD(df.loc[df['country'] == country, 'maxyear'].item(), 12, 31)\n",
    "\n",
    "    # if dates are outside of collection range\n",
    "    if start.difference(collection_min_date, 'days').getInfo() < 0: \n",
    "        print(\"Data for \"+country+\" starts earlier than dataset.\")\n",
    "        start = collection_min_date\n",
    "    if end.difference(collection_max_date, 'days').getInfo() > 0: \n",
    "        print(\"Data for \"+country+\" extends past dataset limit. Setting end date as \")\n",
    "        end = collection_max_date\n",
    "    \n",
    "    region = ee.FeatureCollection('FAO/GAUL/2015/level1').filter(ee.Filter.eq('ADM0_NAME', country))\n",
    "    filtered_collection = collection.filterDate(start, end)\n",
    "\n",
    "    # determine mean for admin region\n",
    "    daily_precip = filtered_collection.map(lambda image: image.reduceRegions(\n",
    "        reducer=ee.Reducer.mean().setOutputs(['precipitation']),\n",
    "        collection=region,\n",
    "        scale=5000\n",
    "    )).flatten()\n",
    "\n",
    "    # Export the FeatureCollection to Google Drive as a CSV file\n",
    "    task = ee.batch.Export.table.toDrive(\n",
    "        collection=daily_precip,\n",
    "        description=country+'_DailyCHIRPSPrecip',\n",
    "        fileFormat='CSV',\n",
    "        folder='test',\n",
    "        selectors=['system:index', 'ADM0_CODE',\t'ADM0_NAME', 'ADM1_CODE', 'ADM1_NAME', 'precipitation']\n",
    "    )\n",
    "\n",
    "    # Start the export task\n",
    "    task.start()\n",
    "    print('Starting task for '+ country)"
   ]
  },
  {
   "cell_type": "markdown",
   "metadata": {},
   "source": [
    "## MODIS EVI DATA"
   ]
  },
  {
   "cell_type": "code",
   "execution_count": 531,
   "metadata": {},
   "outputs": [
    {
     "data": {
      "text/html": [
       "\n",
       "            <style>\n",
       "                .geemap-dark {\n",
       "                    --jp-widgets-color: white;\n",
       "                    --jp-widgets-label-color: white;\n",
       "                    --jp-ui-font-color1: white;\n",
       "                    --jp-layout-color2: #454545;\n",
       "                    background-color: #383838;\n",
       "                }\n",
       "                    \n",
       "                .geemap-dark .jupyter-button {\n",
       "                    --jp-layout-color3: #383838;\n",
       "                }\n",
       "                \n",
       "                .geemap-colab {\n",
       "                    background-color: var(--colab-primary-surface-color, white);\n",
       "                }\n",
       "                    \n",
       "                .geemap-colab .jupyter-button {\n",
       "                    --jp-layout-color3: var(--colab-primary-surface-color, white);\n",
       "                }\n",
       "            </style>\n",
       "            "
      ],
      "text/plain": [
       "<IPython.core.display.HTML object>"
      ]
     },
     "metadata": {},
     "output_type": "display_data"
    },
    {
     "name": "stdout",
     "output_type": "stream",
     "text": [
      "Starting task for Austria\n",
      "Starting task for Brazil\n",
      "Data for Chile starts earlier than dataset.\n",
      "Starting task for Chile\n",
      "Data for China extends past dataset limit.\n",
      "Starting task for China\n",
      "Data for Finland starts earlier than dataset.\n",
      "Data for Finland extends past dataset limit.\n",
      "Starting task for Finland\n",
      "Starting task for France\n",
      "Data for Germany extends past dataset limit.\n",
      "Starting task for Germany\n",
      "Data for Nigeria extends past dataset limit.\n",
      "Starting task for Nigeria\n",
      "Starting task for Norway\n",
      "Starting task for Slovakia\n",
      "Starting task for Slovenia\n",
      "Data for Sweden extends past dataset limit.\n",
      "Starting task for Sweden\n",
      "Data for United States of America starts earlier than dataset.\n",
      "Starting task for United States of America\n"
     ]
    }
   ],
   "source": [
    "collection = ee.ImageCollection(\"MODIS/061/MOD13A2\").map(eviMask)\n",
    "collection_min_date = ee.Date(collection.aggregate_min('system:time_start'))\n",
    "collection_max_date = ee.Date(collection.aggregate_max('system:time_start'))\n",
    "\n",
    "for country in df['country']:\n",
    "    # define date range\n",
    "    start = ee.Date.fromYMD(df.loc[df['country'] == country, 'minyear'].item(), 1, 1)\n",
    "    end = ee.Date.fromYMD(df.loc[df['country'] == country, 'maxyear'].item(), 12, 31)\n",
    "\n",
    "    # if dates are outside of collection range\n",
    "    if start.difference(collection_min_date, 'days').getInfo() < 0: \n",
    "        print(\"Data for \"+country+\" starts earlier than dataset.\")\n",
    "        start = collection_min_date\n",
    "    if end.difference(collection_max_date, 'days').getInfo() > 0: \n",
    "        print(\"Data for \"+country+\" extends past dataset limit.\")\n",
    "        end = collection_max_date\n",
    "    \n",
    "    region = ee.FeatureCollection('FAO/GAUL/2015/level1').filter(ee.Filter.eq('ADM0_NAME', country))\n",
    "    filtered_collection = collection.filterDate(start, end)\n",
    "\n",
    "    # determine mean for admin region\n",
    "    daily_precip = filtered_collection.map(lambda image: image.reduceRegions(\n",
    "        reducer=ee.Reducer.mean().setOutputs(['EVI']),\n",
    "        collection=region,\n",
    "        scale=1000\n",
    "    )).flatten()\n",
    "\n",
    "    # Export the FeatureCollection to Google Drive as a CSV file\n",
    "    task = ee.batch.Export.table.toDrive(\n",
    "        collection=daily_precip,\n",
    "        description=country+'_MonthlyModisEVI',\n",
    "        fileFormat='CSV',\n",
    "        folder='test',\n",
    "        selectors=['system:index', 'ADM0_CODE',\t'ADM0_NAME', 'ADM1_CODE', 'ADM1_NAME', 'EVI']\n",
    "    )\n",
    "\n",
    "    # Start the export task\n",
    "    task.start()\n",
    "    print('Starting task for '+ country)"
   ]
  }
 ],
 "metadata": {
  "kernelspec": {
   "display_name": "rbdml",
   "language": "python",
   "name": "python3"
  },
  "language_info": {
   "codemirror_mode": {
    "name": "ipython",
    "version": 3
   },
   "file_extension": ".py",
   "mimetype": "text/x-python",
   "name": "python",
   "nbconvert_exporter": "python",
   "pygments_lexer": "ipython3",
   "version": "3.11.0"
  },
  "orig_nbformat": 4
 },
 "nbformat": 4,
 "nbformat_minor": 2
}
