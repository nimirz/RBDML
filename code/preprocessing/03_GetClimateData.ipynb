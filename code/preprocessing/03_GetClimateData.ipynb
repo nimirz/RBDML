{
 "cells": [
  {
   "cell_type": "markdown",
   "metadata": {},
   "source": [
    "## Obtaining Climate Data from Google Earth Engine\n",
    "\n",
    "To investigate how climate impacts human rodent-borne disease cases, we must obtain historical climate data for a variety of countries. The climate parameters we are interested in and the datasets we are sourcing from:\n",
    "\n",
    "Parameters used from other paper\n",
    "Tmean, minimum daily air temperature—Tmin, and maximum daily air temperature—Tmax (all temperatures are the monthly averages of the corresponding daily values, in 2 m height above ground, in °C); total precipitation in mm—Pr, total sunshine duration in hours—SD, mean monthly soil temperature in 5 cm depth under uncovered typical soil of location in °C—ST, and soil moisture under grass and sandy loam in percent plant useable water—SM. \n",
    "\n",
    "WorldClim for historical data? https://developers.google.com/earth-engine/datasets/catalog/UCSB-CHG_CHIRPS_PENTAD\n",
    "\n",
    "\n",
    "|Parameter|Dataset|Resolution|Details|Reference|\n",
    "|----|----|----|----|---|\n",
    "|Mean daily land surface temperature|MODIS MOD11A1 v061|1 km|daily temperature|https://doi.org/10.5067/MODIS/MOD11A1.061|\n",
    "|Monthly total precipitation|CHIRPS 2.0|0.05 degrees (5566 meters)|Climate hazards group InfraRed Precip wth station data. Each image represents a pentad (5 days).|hhttps://developers.google.com/earth-engine/datasets/catalog/UCSB-CHG_CHIRPS_PENTAD\n",
    "|Soil Temperature|\n",
    "|Enhaced vegetation index|MODIS Terra Vegetation 16-Day Global 1km|"
   ]
  },
  {
   "cell_type": "code",
   "execution_count": 111,
   "metadata": {},
   "outputs": [
    {
     "data": {
      "text/html": [
       "\n",
       "            <style>\n",
       "                .geemap-dark {\n",
       "                    --jp-widgets-color: white;\n",
       "                    --jp-widgets-label-color: white;\n",
       "                    --jp-ui-font-color1: white;\n",
       "                    --jp-layout-color2: #454545;\n",
       "                    background-color: #383838;\n",
       "                }\n",
       "                    \n",
       "                .geemap-dark .jupyter-button {\n",
       "                    --jp-layout-color3: #383838;\n",
       "                }\n",
       "                \n",
       "                .geemap-colab {\n",
       "                    background-color: var(--colab-primary-surface-color, white);\n",
       "                }\n",
       "                    \n",
       "                .geemap-colab .jupyter-button {\n",
       "                    --jp-layout-color3: var(--colab-primary-surface-color, white);\n",
       "                }\n",
       "            </style>\n",
       "            "
      ],
      "text/plain": [
       "<IPython.core.display.HTML object>"
      ]
     },
     "metadata": {},
     "output_type": "display_data"
    }
   ],
   "source": [
    "# import packages\n",
    "import ee\n",
    "from datetime import datetime\n",
    "import pandas as pd\n",
    "import geopandas as gpd\n",
    "import matplotlib.pyplot as plt\n",
    "import os"
   ]
  },
  {
   "cell_type": "markdown",
   "metadata": {},
   "source": [
    "Initialize Earth Engine. If first time using GEE in notebook setup, make sure that a project has been created and your account as been added, then run the authenticate command to link your account. Additionally, set up the working directory. Enter the authorization code you receive from google into the box. "
   ]
  },
  {
   "cell_type": "code",
   "execution_count": 112,
   "metadata": {},
   "outputs": [
    {
     "data": {
      "text/html": [
       "\n",
       "            <style>\n",
       "                .geemap-dark {\n",
       "                    --jp-widgets-color: white;\n",
       "                    --jp-widgets-label-color: white;\n",
       "                    --jp-ui-font-color1: white;\n",
       "                    --jp-layout-color2: #454545;\n",
       "                    background-color: #383838;\n",
       "                }\n",
       "                    \n",
       "                .geemap-dark .jupyter-button {\n",
       "                    --jp-layout-color3: #383838;\n",
       "                }\n",
       "                \n",
       "                .geemap-colab {\n",
       "                    background-color: var(--colab-primary-surface-color, white);\n",
       "                }\n",
       "                    \n",
       "                .geemap-colab .jupyter-button {\n",
       "                    --jp-layout-color3: var(--colab-primary-surface-color, white);\n",
       "                }\n",
       "            </style>\n",
       "            "
      ],
      "text/plain": [
       "<IPython.core.display.HTML object>"
      ]
     },
     "metadata": {},
     "output_type": "display_data"
    },
    {
     "data": {
      "text/html": [
       "<p>To authorize access needed by Earth Engine, open the following\n",
       "        URL in a web browser and follow the instructions:</p>\n",
       "        <p><a href=https://code.earthengine.google.com/client-auth?scopes=https%3A//www.googleapis.com/auth/earthengine%20https%3A//www.googleapis.com/auth/devstorage.full_control&request_id=3MZ767zKIMUGYOhqLK4q5a0YdLItwzxa8Vqt-rqq4iM&tc=Qc6wbGTqD_bzawZIivAHeyRzn0NsuqYz0auhcpAqoQI&cc=txJKt06KIPVrXpMmFoJTQPb-UaFY7EO2tNYo12mH-9s>https://code.earthengine.google.com/client-auth?scopes=https%3A//www.googleapis.com/auth/earthengine%20https%3A//www.googleapis.com/auth/devstorage.full_control&request_id=3MZ767zKIMUGYOhqLK4q5a0YdLItwzxa8Vqt-rqq4iM&tc=Qc6wbGTqD_bzawZIivAHeyRzn0NsuqYz0auhcpAqoQI&cc=txJKt06KIPVrXpMmFoJTQPb-UaFY7EO2tNYo12mH-9s</a></p>\n",
       "        <p>The authorization workflow will generate a code, which you should paste in the box below.</p>\n",
       "        "
      ],
      "text/plain": [
       "<IPython.core.display.HTML object>"
      ]
     },
     "metadata": {},
     "output_type": "display_data"
    },
    {
     "name": "stdout",
     "output_type": "stream",
     "text": [
      "\n",
      "Successfully saved authorization token.\n"
     ]
    }
   ],
   "source": [
    "ee.Authenticate()\n",
    "ee.Initialize()\n",
    "\n",
    "wd = '~/Projects/RBDML'"
   ]
  },
  {
   "cell_type": "markdown",
   "metadata": {},
   "source": [
    "### Define Regions of Interest\n",
    "\n",
    "The case data for hantavirus and lassa fever only focus on the following countries based on the listed criteria. We will be downloading gridded raster for the climate parameters \n",
    "\n",
    "Country inclusion criteria:\n",
    "- More than 10 cases in one month\n",
    "- More than 300 total cases across all years\n",
    "\n",
    "Countries included:"
   ]
  },
  {
   "cell_type": "code",
   "execution_count": 107,
   "metadata": {},
   "outputs": [
    {
     "data": {
      "text/html": [
       "\n",
       "            <style>\n",
       "                .geemap-dark {\n",
       "                    --jp-widgets-color: white;\n",
       "                    --jp-widgets-label-color: white;\n",
       "                    --jp-ui-font-color1: white;\n",
       "                    --jp-layout-color2: #454545;\n",
       "                    background-color: #383838;\n",
       "                }\n",
       "                    \n",
       "                .geemap-dark .jupyter-button {\n",
       "                    --jp-layout-color3: #383838;\n",
       "                }\n",
       "                \n",
       "                .geemap-colab {\n",
       "                    background-color: var(--colab-primary-surface-color, white);\n",
       "                }\n",
       "                    \n",
       "                .geemap-colab .jupyter-button {\n",
       "                    --jp-layout-color3: var(--colab-primary-surface-color, white);\n",
       "                }\n",
       "            </style>\n",
       "            "
      ],
      "text/plain": [
       "<IPython.core.display.HTML object>"
      ]
     },
     "metadata": {},
     "output_type": "display_data"
    },
    {
     "data": {
      "text/html": [
       "<div>\n",
       "<style scoped>\n",
       "    .dataframe tbody tr th:only-of-type {\n",
       "        vertical-align: middle;\n",
       "    }\n",
       "\n",
       "    .dataframe tbody tr th {\n",
       "        vertical-align: top;\n",
       "    }\n",
       "\n",
       "    .dataframe thead th {\n",
       "        text-align: right;\n",
       "    }\n",
       "</style>\n",
       "<table border=\"1\" class=\"dataframe\">\n",
       "  <thead>\n",
       "    <tr style=\"text-align: right;\">\n",
       "      <th></th>\n",
       "      <th>country</th>\n",
       "      <th>FIPS</th>\n",
       "      <th>minyear</th>\n",
       "      <th>maxyear</th>\n",
       "      <th>max_monthly_cases</th>\n",
       "      <th>total_cases</th>\n",
       "    </tr>\n",
       "  </thead>\n",
       "  <tbody>\n",
       "    <tr>\n",
       "      <th>0</th>\n",
       "      <td>Austria</td>\n",
       "      <td>AU</td>\n",
       "      <td>2008</td>\n",
       "      <td>2021</td>\n",
       "      <td>46</td>\n",
       "      <td>1134</td>\n",
       "    </tr>\n",
       "    <tr>\n",
       "      <th>1</th>\n",
       "      <td>Brazil</td>\n",
       "      <td>BR</td>\n",
       "      <td>2001</td>\n",
       "      <td>2020</td>\n",
       "      <td>66</td>\n",
       "      <td>577048</td>\n",
       "    </tr>\n",
       "    <tr>\n",
       "      <th>2</th>\n",
       "      <td>Chile</td>\n",
       "      <td>CI</td>\n",
       "      <td>1995</td>\n",
       "      <td>2022</td>\n",
       "      <td>19</td>\n",
       "      <td>9511</td>\n",
       "    </tr>\n",
       "    <tr>\n",
       "      <th>3</th>\n",
       "      <td>China</td>\n",
       "      <td>CH</td>\n",
       "      <td>2004</td>\n",
       "      <td>2023</td>\n",
       "      <td>4189</td>\n",
       "      <td>228738</td>\n",
       "    </tr>\n",
       "    <tr>\n",
       "      <th>4</th>\n",
       "      <td>Finland</td>\n",
       "      <td>FI</td>\n",
       "      <td>1995</td>\n",
       "      <td>2023</td>\n",
       "      <td>1596</td>\n",
       "      <td>2025954</td>\n",
       "    </tr>\n",
       "    <tr>\n",
       "      <th>5</th>\n",
       "      <td>France</td>\n",
       "      <td>FR</td>\n",
       "      <td>2011</td>\n",
       "      <td>2021</td>\n",
       "      <td>92</td>\n",
       "      <td>1357</td>\n",
       "    </tr>\n",
       "    <tr>\n",
       "      <th>6</th>\n",
       "      <td>Germany</td>\n",
       "      <td>GM</td>\n",
       "      <td>2001</td>\n",
       "      <td>2023</td>\n",
       "      <td>1639</td>\n",
       "      <td>33564817</td>\n",
       "    </tr>\n",
       "    <tr>\n",
       "      <th>7</th>\n",
       "      <td>Nigeria</td>\n",
       "      <td>NI</td>\n",
       "      <td>2012</td>\n",
       "      <td>2023</td>\n",
       "      <td>469</td>\n",
       "      <td>213120</td>\n",
       "    </tr>\n",
       "    <tr>\n",
       "      <th>8</th>\n",
       "      <td>Norway</td>\n",
       "      <td>NO</td>\n",
       "      <td>2008</td>\n",
       "      <td>2021</td>\n",
       "      <td>12</td>\n",
       "      <td>334</td>\n",
       "    </tr>\n",
       "    <tr>\n",
       "      <th>9</th>\n",
       "      <td>Slovakia</td>\n",
       "      <td>LO</td>\n",
       "      <td>2008</td>\n",
       "      <td>2021</td>\n",
       "      <td>34</td>\n",
       "      <td>470</td>\n",
       "    </tr>\n",
       "    <tr>\n",
       "      <th>10</th>\n",
       "      <td>Slovenia</td>\n",
       "      <td>SI</td>\n",
       "      <td>2008</td>\n",
       "      <td>2021</td>\n",
       "      <td>213</td>\n",
       "      <td>1240</td>\n",
       "    </tr>\n",
       "    <tr>\n",
       "      <th>11</th>\n",
       "      <td>Sweden</td>\n",
       "      <td>SW</td>\n",
       "      <td>2008</td>\n",
       "      <td>2023</td>\n",
       "      <td>209</td>\n",
       "      <td>106157</td>\n",
       "    </tr>\n",
       "    <tr>\n",
       "      <th>12</th>\n",
       "      <td>United States of America</td>\n",
       "      <td>US</td>\n",
       "      <td>1993</td>\n",
       "      <td>2021</td>\n",
       "      <td>12</td>\n",
       "      <td>2591</td>\n",
       "    </tr>\n",
       "  </tbody>\n",
       "</table>\n",
       "</div>"
      ],
      "text/plain": [
       "                     country FIPS  minyear  maxyear  max_monthly_cases  \\\n",
       "0                    Austria   AU     2008     2021                 46   \n",
       "1                     Brazil   BR     2001     2020                 66   \n",
       "2                      Chile   CI     1995     2022                 19   \n",
       "3                      China   CH     2004     2023               4189   \n",
       "4                    Finland   FI     1995     2023               1596   \n",
       "5                     France   FR     2011     2021                 92   \n",
       "6                    Germany   GM     2001     2023               1639   \n",
       "7                    Nigeria   NI     2012     2023                469   \n",
       "8                     Norway   NO     2008     2021                 12   \n",
       "9                   Slovakia   LO     2008     2021                 34   \n",
       "10                  Slovenia   SI     2008     2021                213   \n",
       "11                    Sweden   SW     2008     2023                209   \n",
       "12  United States of America   US     1993     2021                 12   \n",
       "\n",
       "    total_cases  \n",
       "0          1134  \n",
       "1        577048  \n",
       "2          9511  \n",
       "3        228738  \n",
       "4       2025954  \n",
       "5          1357  \n",
       "6      33564817  \n",
       "7        213120  \n",
       "8           334  \n",
       "9           470  \n",
       "10         1240  \n",
       "11       106157  \n",
       "12         2591  "
      ]
     },
     "execution_count": 107,
     "metadata": {},
     "output_type": "execute_result"
    }
   ],
   "source": [
    "# import csv with regions and date ranges\n",
    "df = pd.read_csv(os.path.join(wd, 'data/human/processed/country_list.csv'))\n",
    "#df.set_index('country', inplace=True)\n",
    "df"
   ]
  },
  {
   "cell_type": "markdown",
   "metadata": {},
   "source": [
    "### 1. Obtain Land Surface Temperature (LST)\n",
    "\n",
    "First we will define the functions needed:"
   ]
  },
  {
   "cell_type": "code",
   "execution_count": 7,
   "metadata": {},
   "outputs": [],
   "source": [
    "def scaleAndMask(img):\n",
    "    '''\n",
    "        Takes in an image and returns the the day LST in celcius, masked by quality.\n",
    "    '''\n",
    "    # Select the QA bands\n",
    "    qc = img.select('QC_Day')\n",
    "\n",
    "    # Create masks:\n",
    "    qa_flag_mask = qc.bitwiseAnd(0b11).lt(2) # Bits 0-1 <= 1; good or other quality\n",
    "    data_quality_mask = qc.bitwiseAnd(0b1100).rightShift(2).eq(0) # Bits 2-3 = 0; good data quality\n",
    "\n",
    "    good_qc = qa_flag_mask.And(data_quality_mask)\n",
    "\n",
    "    return(img.select('LST_Day_1km')\n",
    "           .multiply(0.02) # convert from Kelvin\n",
    "           .subtract(273.15)\n",
    "           .updateMask(good_qc)\n",
    "           .copyProperties(img, ['system:time_start']))\n",
    "\n",
    "def eviMask(img):\n",
    "    '''\n",
    "        Takes in an image and returns the the day LST in celcius, masked by quality.\n",
    "    '''\n",
    "    # Select the QA bands\n",
    "    qc = img.select('SummaryQA')\n",
    "\n",
    "    # Create masks:\n",
    "    qa_flag_mask = qc.bitwiseAnd(1 << 0).eq(0) # left-shift: only looking at last bit -> if 0 good quality\n",
    "\n",
    "    return(img.select('EVI')\n",
    "           .multiply(0.0001)\n",
    "           .updateMask(qa_flag_mask)\n",
    "           .copyProperties(img, ['system:time_start']))\n",
    "\n",
    "def sumDailyPrecip(collection, date):\n",
    "    '''\n",
    "        Calculate the sum for the day\n",
    "    '''\n",
    "    date = ee.Date(date)\n",
    "    return (collection\n",
    "            .filter(ee.Filter.date(date.getRange('day')))\n",
    "            .sum()\n",
    "            .set(\"day\", date.format(\"DD\"))\n",
    "            .set(\"month\", date.format(\"MM\"))\n",
    "            .set(\"year\", date.format(\"YYYY\"))\n",
    "            .set(\"system:index\", date.format(\"YYYY-MM-DD\")))\n",
    "\n",
    "\n",
    "def sumMonthlyComposite(collection, date):\n",
    "    '''\n",
    "        Calculate the sum for a month for an image.\n",
    "    '''\n",
    "    date = ee.Date(date)\n",
    "    return (collection\n",
    "            .filterDate(date, date.advance(1, 'month'))\n",
    "            .sum()\n",
    "            .set(\"month\", date.format(\"MM\"))\n",
    "            .set(\"year\", date.format(\"YYYY\"))\n",
    "            .set(\"system:index\", date.format(\"MM-YYYY\")))\n",
    "\n",
    "def meanMonthlyComposite(collection, date):\n",
    "    '''\n",
    "        Calculate the mean for a month for an image.\n",
    "    '''\n",
    "    date = ee.Date(date)\n",
    "    return (collection\n",
    "            .filterDate(date, date.advance(1, 'month'))\n",
    "            .mean()\n",
    "            .set(\"month\", date.format(\"MM\"))\n",
    "            .set(\"year\", date.format(\"YYYY\"))\n",
    "            .set(\"system:index\", date.format(\"MM-YYYY\")))\n",
    "\n",
    "\n",
    "def fcToDict(fc):\n",
    "  '''\n",
    "    Turns a feature collection into a dictionary. \n",
    "  '''\n",
    "  prop_names = fc.first().propertyNames()\n",
    "  prop_lists = fc.reduceColumns(\n",
    "      reducer=ee.Reducer.toList().repeat(prop_names.size()),\n",
    "      selectors=prop_names).get('list')\n",
    "\n",
    "  return ee.Dictionary.fromLists(prop_names, prop_lists)"
   ]
  },
  {
   "cell_type": "markdown",
   "metadata": {},
   "source": [
    "Next we need to create a list of the countries we will be using and load image collection."
   ]
  },
  {
   "cell_type": "code",
   "execution_count": 4,
   "metadata": {},
   "outputs": [],
   "source": [
    "# Feature Collection for list of countries\n",
    "# Using the FAO GAUL Admin Layers: https://developers.google.com/earth-engine/datasets/catalog/FAO_GAUL_2015_level0#table-schema\n",
    "# Export for admin 1 level for all \n",
    "#countries = ee.Filter.inList('ADM0_NAME', list(df['country'])[0]) # using FIPS country code\n",
    "#regions = ee.FeatureCollection('FAO/GAUL/2015/level1').filter(countries)\n",
    "\n",
    "# Dates required\n",
    "year = '2012'\n",
    "start = ee.Date('2012-01-01')\n",
    "end = ee.Date('2013-01-01')\n",
    "\n",
    "# Image collection\n",
    "# Import the MODIS land surface temperature collection.\n",
    "#collection = ee.ImageCollection('MODIS/006/MOD11A1').filterDate(start,end).map(scaleAndMask)"
   ]
  },
  {
   "cell_type": "markdown",
   "metadata": {},
   "source": [
    "### Export daily LST"
   ]
  },
  {
   "cell_type": "code",
   "execution_count": 490,
   "metadata": {},
   "outputs": [
    {
     "data": {
      "text/html": [
       "\n",
       "            <style>\n",
       "                .geemap-dark {\n",
       "                    --jp-widgets-color: white;\n",
       "                    --jp-widgets-label-color: white;\n",
       "                    --jp-ui-font-color1: white;\n",
       "                    --jp-layout-color2: #454545;\n",
       "                    background-color: #383838;\n",
       "                }\n",
       "                    \n",
       "                .geemap-dark .jupyter-button {\n",
       "                    --jp-layout-color3: #383838;\n",
       "                }\n",
       "                \n",
       "                .geemap-colab {\n",
       "                    background-color: var(--colab-primary-surface-color, white);\n",
       "                }\n",
       "                    \n",
       "                .geemap-colab .jupyter-button {\n",
       "                    --jp-layout-color3: var(--colab-primary-surface-color, white);\n",
       "                }\n",
       "            </style>\n",
       "            "
      ],
      "text/plain": [
       "<IPython.core.display.HTML object>"
      ]
     },
     "metadata": {},
     "output_type": "display_data"
    },
    {
     "name": "stdout",
     "output_type": "stream",
     "text": [
      "Starting task for Austria\n",
      "Starting task for Brazil\n",
      "Starting task for Chile\n",
      "Starting task for China\n",
      "Starting task for Finland\n",
      "Starting task for France\n",
      "Starting task for Germany\n",
      "Starting task for Nigeria\n",
      "Starting task for Norway\n",
      "Starting task for Slovakia\n",
      "Starting task for Slovenia\n",
      "Starting task for Sweden\n",
      "Starting task for United States of America\n"
     ]
    }
   ],
   "source": [
    "collection = ee.ImageCollection('MODIS/006/MOD11A1').map(scaleAndMask)\n",
    "collection_min_date = ee.Date(collection.aggregate_min('system:time_start'))\n",
    "collection_max_date = ee.Date(collection.aggregate_max('system:time_start'))\n",
    "\n",
    "for country in df['country']:\n",
    "    # define date range\n",
    "    start = ee.Date.fromYMD(df.loc[df['country'] == country, 'minyear'].item(), 1, 1)\n",
    "    end = ee.Date.fromYMD(df.loc[df['country'] == country, 'maxyear'].item(), 12, 31)\n",
    "\n",
    "    # if dates are outside of collection range\n",
    "    if start.difference(collection_min_date, 'days').getInfo() < 0: start = collection_min_date\n",
    "    if end.difference(collection_max_date, 'days').getInfo() > 0: end = collection_max_date\n",
    "    \n",
    "    region = ee.FeatureCollection('FAO/GAUL/2015/level1').filter(ee.Filter.eq('ADM0_NAME', country))\n",
    "    daily_lst_filtered = collection.filterDate(start, end)\n",
    "\n",
    "    # Determine mean for admin region\n",
    "    daily_lst = daily_lst_filtered.map(lambda image: image.reduceRegions(\n",
    "        reducer=ee.Reducer.mean().setOutputs(['mean_lst']),\n",
    "        collection=region,\n",
    "        scale=1000\n",
    "    )).flatten()\n",
    "\n",
    "    # Export the FeatureCollection to Google Drive as a CSV file\n",
    "    task = ee.batch.Export.table.toDrive(\n",
    "        collection=daily_lst,\n",
    "        description=country+'_DailyLST',\n",
    "        fileFormat='CSV',\n",
    "        folder='test',\n",
    "        selectors=['system:index', 'ADM0_CODE',\t'ADM0_NAME', 'ADM1_CODE', 'ADM1_NAME', 'mean_lst']\n",
    "    )\n",
    "\n",
    "    # Start the export task\n",
    "    task.start()\n",
    "    print('Starting task for '+ country)"
   ]
  },
  {
   "cell_type": "markdown",
   "metadata": {},
   "source": [
    "Finland at 2nd admin unit so do more detailed "
   ]
  },
  {
   "cell_type": "code",
   "execution_count": 77,
   "metadata": {},
   "outputs": [
    {
     "data": {
      "text/html": [
       "\n",
       "            <style>\n",
       "                .geemap-dark {\n",
       "                    --jp-widgets-color: white;\n",
       "                    --jp-widgets-label-color: white;\n",
       "                    --jp-ui-font-color1: white;\n",
       "                    --jp-layout-color2: #454545;\n",
       "                    background-color: #383838;\n",
       "                }\n",
       "                    \n",
       "                .geemap-dark .jupyter-button {\n",
       "                    --jp-layout-color3: #383838;\n",
       "                }\n",
       "                \n",
       "                .geemap-colab {\n",
       "                    background-color: var(--colab-primary-surface-color, white);\n",
       "                }\n",
       "                    \n",
       "                .geemap-colab .jupyter-button {\n",
       "                    --jp-layout-color3: var(--colab-primary-surface-color, white);\n",
       "                }\n",
       "            </style>\n",
       "            "
      ],
      "text/plain": [
       "<IPython.core.display.HTML object>"
      ]
     },
     "metadata": {},
     "output_type": "display_data"
    },
    {
     "name": "stdout",
     "output_type": "stream",
     "text": [
      "Starting task for Finland\n"
     ]
    }
   ],
   "source": [
    "collection = ee.ImageCollection('MODIS/006/MOD11A1').map(scaleAndMask)\n",
    "collection_min_date = ee.Date(collection.aggregate_min('system:time_start'))\n",
    "collection_max_date = ee.Date(collection.aggregate_max('system:time_start'))\n",
    "\n",
    "for country in ['Finland']:\n",
    "    # define date range\n",
    "    start = ee.Date.fromYMD(df.loc[df['country'] == country, 'minyear'].item(), 1, 1)\n",
    "    end = ee.Date.fromYMD(df.loc[df['country'] == country, 'maxyear'].item(), 12, 31)\n",
    "\n",
    "    # if dates are outside of collection range\n",
    "    if start.difference(collection_min_date, 'days').getInfo() < 0: start = collection_min_date\n",
    "    if end.difference(collection_max_date, 'days').getInfo() > 0: end = collection_max_date\n",
    "    \n",
    "    region = ee.FeatureCollection('FAO/GAUL/2015/level2').filter(ee.Filter.eq('ADM0_NAME', country))\n",
    "    daily_lst_filtered = collection.filterDate(start, end)\n",
    "\n",
    "    # Determine mean for admin region\n",
    "    daily_lst = daily_lst_filtered.map(lambda image: image.reduceRegions(\n",
    "        reducer=ee.Reducer.mean().setOutputs(['mean_lst']),\n",
    "        collection=region,\n",
    "        scale=1000\n",
    "    )).flatten()\n",
    "\n",
    "    # Export the FeatureCollection to Google Drive as a CSV file\n",
    "    task = ee.batch.Export.table.toDrive(\n",
    "        collection=daily_lst,\n",
    "        description=country+'_DailyLST',\n",
    "        fileFormat='CSV',\n",
    "        folder='GEE/Temperature/',\n",
    "        selectors=['system:index', 'ADM0_CODE',\t'ADM0_NAME', 'ADM1_CODE', 'ADM1_NAME', 'ADM2_CODE', 'ADM2_NAME', 'mean_lst']\n",
    "    )\n",
    "\n",
    "    # Start the export task\n",
    "    task.start()\n",
    "    print('Starting task for '+ country)"
   ]
  },
  {
   "cell_type": "markdown",
   "metadata": {},
   "source": [
    "## Precipitation Data\n",
    "\n",
    "For CHIRPS data"
   ]
  },
  {
   "cell_type": "code",
   "execution_count": 59,
   "metadata": {},
   "outputs": [
    {
     "name": "stdout",
     "output_type": "stream",
     "text": [
      "Data for Finland extends past dataset limit. Setting end date as \n",
      "Starting task for Finland\n",
      "Starting task for Norway\n",
      "Data for Sweden extends past dataset limit. Setting end date as \n",
      "Starting task for Sweden\n"
     ]
    }
   ],
   "source": [
    "collection = ee.ImageCollection('UCSB-CHG/CHIRPS/DAILY')\n",
    "collection_min_date = ee.Date(collection.aggregate_min('system:time_start'))\n",
    "collection_max_date = ee.Date(collection.aggregate_max('system:time_start'))\n",
    "\n",
    "for country in df['country']:\n",
    "    # define date range\n",
    "    start = ee.Date.fromYMD(df.loc[df['country'] == country, 'minyear'].item(), 1, 1)\n",
    "    end = ee.Date.fromYMD(df.loc[df['country'] == country, 'maxyear'].item(), 12, 31)\n",
    "\n",
    "    # if dates are outside of collection range\n",
    "    if start.difference(collection_min_date, 'days').getInfo() < 0: \n",
    "        print(\"Data for \"+country+\" starts earlier than dataset.\")\n",
    "        start = collection_min_date\n",
    "    if end.difference(collection_max_date, 'days').getInfo() > 0: \n",
    "        print(\"Data for \"+country+\" extends past dataset limit.\")\n",
    "        end = collection_max_date\n",
    "    \n",
    "    region = ee.FeatureCollection('FAO/GAUL/2015/level2').filter(ee.Filter.eq('ADM0_NAME', country))\n",
    "    filtered_collection = collection.filterDate(start, end)\n",
    "\n",
    "    # determine mean for admin region\n",
    "    daily_precip = filtered_collection.map(lambda image: image.reduceRegions(\n",
    "        reducer=ee.Reducer.mean().setOutputs(['precipitation']),\n",
    "        collection=region,\n",
    "        scale=5000\n",
    "    )).flatten()\n",
    "\n",
    "    # Export the FeatureCollection to Google Drive as a CSV file\n",
    "    task = ee.batch.Export.table.toDrive(\n",
    "        collection=daily_precip,\n",
    "        description=country+'_DailyCHIRPSPrecip',\n",
    "        fileFormat='CSV',\n",
    "        folder='test',\n",
    "        selectors=['system:index', 'ADM0_CODE',\t'ADM0_NAME', 'ADM1_CODE', 'ADM1_NAME', 'precipitation']\n",
    "    )\n",
    "\n",
    "    # Start the export task\n",
    "    task.start()\n",
    "    print('Starting task for '+ country)"
   ]
  },
  {
   "cell_type": "markdown",
   "metadata": {},
   "source": [
    "For daily IMERG data (https://developers.google.com/earth-engine/datasets/catalog/NASA_GPM_L3_IMERG_V06#description)"
   ]
  },
  {
   "cell_type": "code",
   "execution_count": 145,
   "metadata": {},
   "outputs": [
    {
     "data": {
      "text/html": [
       "\n",
       "            <style>\n",
       "                .geemap-dark {\n",
       "                    --jp-widgets-color: white;\n",
       "                    --jp-widgets-label-color: white;\n",
       "                    --jp-ui-font-color1: white;\n",
       "                    --jp-layout-color2: #454545;\n",
       "                    background-color: #383838;\n",
       "                }\n",
       "                    \n",
       "                .geemap-dark .jupyter-button {\n",
       "                    --jp-layout-color3: #383838;\n",
       "                }\n",
       "                \n",
       "                .geemap-colab {\n",
       "                    background-color: var(--colab-primary-surface-color, white);\n",
       "                }\n",
       "                    \n",
       "                .geemap-colab .jupyter-button {\n",
       "                    --jp-layout-color3: var(--colab-primary-surface-color, white);\n",
       "                }\n",
       "            </style>\n",
       "            "
      ],
      "text/plain": [
       "<IPython.core.display.HTML object>"
      ]
     },
     "metadata": {},
     "output_type": "display_data"
    },
    {
     "ename": "EEException",
     "evalue": "Cannot convert month to Element.",
     "output_type": "error",
     "traceback": [
      "\u001b[0;31m---------------------------------------------------------------------------\u001b[0m",
      "\u001b[0;31mEEException\u001b[0m                               Traceback (most recent call last)",
      "Cell \u001b[0;32mIn[145], line 31\u001b[0m\n\u001b[1;32m     24\u001b[0m daily_collection \u001b[39m=\u001b[39m ee\u001b[39m.\u001b[39mImageCollection(days\u001b[39m.\u001b[39mmap(\u001b[39mlambda\u001b[39;00m date: sumDailyPrecip(filtered_collection, date)))\n\u001b[1;32m     26\u001b[0m \u001b[39m# determine mean for admin region\u001b[39;00m\n\u001b[1;32m     27\u001b[0m daily_precip \u001b[39m=\u001b[39m daily_collection\u001b[39m.\u001b[39;49mmap(\u001b[39mlambda\u001b[39;49;00m image: image\u001b[39m.\u001b[39;49mreduceRegions(\n\u001b[1;32m     28\u001b[0m     reducer\u001b[39m=\u001b[39;49mee\u001b[39m.\u001b[39;49mReducer\u001b[39m.\u001b[39;49mmean()\u001b[39m.\u001b[39;49msetOutputs([\u001b[39m'\u001b[39;49m\u001b[39mprecipitation\u001b[39;49m\u001b[39m'\u001b[39;49m]),\n\u001b[1;32m     29\u001b[0m     collection\u001b[39m=\u001b[39;49mregion,\n\u001b[1;32m     30\u001b[0m     scale\u001b[39m=\u001b[39;49m\u001b[39m10000\u001b[39;49m\n\u001b[0;32m---> 31\u001b[0m ))\u001b[39m.\u001b[39;49mflatten()\u001b[39m.\u001b[39;49mcopyProperties(\u001b[39m'\u001b[39;49m\u001b[39mmonth\u001b[39;49m\u001b[39m'\u001b[39;49m, \u001b[39m'\u001b[39;49m\u001b[39mday\u001b[39;49m\u001b[39m'\u001b[39;49m, \u001b[39m'\u001b[39;49m\u001b[39myear\u001b[39;49m\u001b[39m'\u001b[39;49m)\n\u001b[1;32m     33\u001b[0m \u001b[39m# Export the FeatureCollection to Google Drive as a CSV file\u001b[39;00m\n\u001b[1;32m     34\u001b[0m task \u001b[39m=\u001b[39m ee\u001b[39m.\u001b[39mbatch\u001b[39m.\u001b[39mExport\u001b[39m.\u001b[39mtable\u001b[39m.\u001b[39mtoDrive(\n\u001b[1;32m     35\u001b[0m     collection\u001b[39m=\u001b[39mdaily_precip,\n\u001b[1;32m     36\u001b[0m     description\u001b[39m=\u001b[39mcountry\u001b[39m+\u001b[39m\u001b[39m'\u001b[39m\u001b[39m_sum_GPM\u001b[39m\u001b[39m'\u001b[39m,\n\u001b[0;32m   (...)\u001b[0m\n\u001b[1;32m     39\u001b[0m     selectors\u001b[39m=\u001b[39m[\u001b[39m'\u001b[39m\u001b[39msystem:index\u001b[39m\u001b[39m'\u001b[39m, \u001b[39m'\u001b[39m\u001b[39mADM0_CODE\u001b[39m\u001b[39m'\u001b[39m,\t\u001b[39m'\u001b[39m\u001b[39mADM0_NAME\u001b[39m\u001b[39m'\u001b[39m, \u001b[39m'\u001b[39m\u001b[39mADM1_CODE\u001b[39m\u001b[39m'\u001b[39m, \u001b[39m'\u001b[39m\u001b[39mADM1_NAME\u001b[39m\u001b[39m'\u001b[39m, \u001b[39m'\u001b[39m\u001b[39mprecipitation\u001b[39m\u001b[39m'\u001b[39m]\n\u001b[1;32m     40\u001b[0m )\n",
      "File \u001b[0;32m~/miniconda3/envs/rbdml/lib/python3.11/site-packages/ee/apifunction.py:218\u001b[0m, in \u001b[0;36mApiFunction.importApi.<locals>.MakeBoundFunction.<locals>.<lambda>\u001b[0;34m(*args, **kwargs)\u001b[0m\n\u001b[1;32m    215\u001b[0m \u001b[39mdef\u001b[39;00m \u001b[39mMakeBoundFunction\u001b[39m(func):\n\u001b[1;32m    216\u001b[0m   \u001b[39m# We need the lambda to capture \"func\" from the enclosing scope.\u001b[39;00m\n\u001b[1;32m    217\u001b[0m   \u001b[39m# pylint: disable-next=unnecessary-lambda\u001b[39;00m\n\u001b[0;32m--> 218\u001b[0m   \u001b[39mreturn\u001b[39;00m \u001b[39mlambda\u001b[39;00m \u001b[39m*\u001b[39margs, \u001b[39m*\u001b[39m\u001b[39m*\u001b[39mkwargs: func\u001b[39m.\u001b[39;49mcall(\u001b[39m*\u001b[39;49margs, \u001b[39m*\u001b[39;49m\u001b[39m*\u001b[39;49mkwargs)\n",
      "File \u001b[0;32m~/miniconda3/envs/rbdml/lib/python3.11/site-packages/ee/function.py:62\u001b[0m, in \u001b[0;36mFunction.call\u001b[0;34m(self, *args, **kwargs)\u001b[0m\n\u001b[1;32m     50\u001b[0m \u001b[39mdef\u001b[39;00m \u001b[39mcall\u001b[39m(\u001b[39mself\u001b[39m, \u001b[39m*\u001b[39margs, \u001b[39m*\u001b[39m\u001b[39m*\u001b[39mkwargs):\n\u001b[1;32m     51\u001b[0m \u001b[39m  \u001b[39m\u001b[39m\"\"\"Calls the function with the given positional and keyword arguments.\u001b[39;00m\n\u001b[1;32m     52\u001b[0m \n\u001b[1;32m     53\u001b[0m \u001b[39m  Args:\u001b[39;00m\n\u001b[0;32m   (...)\u001b[0m\n\u001b[1;32m     60\u001b[0m \u001b[39m    to that type.\u001b[39;00m\n\u001b[1;32m     61\u001b[0m \u001b[39m  \"\"\"\u001b[39;00m\n\u001b[0;32m---> 62\u001b[0m   \u001b[39mreturn\u001b[39;00m \u001b[39mself\u001b[39;49m\u001b[39m.\u001b[39;49mapply(\u001b[39mself\u001b[39;49m\u001b[39m.\u001b[39;49mnameArgs(args, kwargs))\n",
      "File \u001b[0;32m~/miniconda3/envs/rbdml/lib/python3.11/site-packages/ee/function.py:75\u001b[0m, in \u001b[0;36mFunction.apply\u001b[0;34m(self, named_args)\u001b[0m\n\u001b[1;32m     64\u001b[0m \u001b[39mdef\u001b[39;00m \u001b[39mapply\u001b[39m(\u001b[39mself\u001b[39m, named_args):\n\u001b[1;32m     65\u001b[0m \u001b[39m  \u001b[39m\u001b[39m\"\"\"Calls the function with a dictionary of named arguments.\u001b[39;00m\n\u001b[1;32m     66\u001b[0m \n\u001b[1;32m     67\u001b[0m \u001b[39m  Args:\u001b[39;00m\n\u001b[0;32m   (...)\u001b[0m\n\u001b[1;32m     73\u001b[0m \u001b[39m    to that type.\u001b[39;00m\n\u001b[1;32m     74\u001b[0m \u001b[39m  \"\"\"\u001b[39;00m\n\u001b[0;32m---> 75\u001b[0m   result \u001b[39m=\u001b[39m computedobject\u001b[39m.\u001b[39mComputedObject(\u001b[39mself\u001b[39m, \u001b[39mself\u001b[39;49m\u001b[39m.\u001b[39;49mpromoteArgs(named_args))\n\u001b[1;32m     76\u001b[0m   \u001b[39mreturn\u001b[39;00m Function\u001b[39m.\u001b[39m_promoter(result, \u001b[39mself\u001b[39m\u001b[39m.\u001b[39mgetReturnType())\n",
      "File \u001b[0;32m~/miniconda3/envs/rbdml/lib/python3.11/site-packages/ee/function.py:103\u001b[0m, in \u001b[0;36mFunction.promoteArgs\u001b[0;34m(self, args)\u001b[0m\n\u001b[1;32m    101\u001b[0m name \u001b[39m=\u001b[39m arg_spec[\u001b[39m'\u001b[39m\u001b[39mname\u001b[39m\u001b[39m'\u001b[39m]\n\u001b[1;32m    102\u001b[0m \u001b[39mif\u001b[39;00m name \u001b[39min\u001b[39;00m args:\n\u001b[0;32m--> 103\u001b[0m   promoted_args[name] \u001b[39m=\u001b[39m Function\u001b[39m.\u001b[39;49m_promoter(args[name], arg_spec[\u001b[39m'\u001b[39;49m\u001b[39mtype\u001b[39;49m\u001b[39m'\u001b[39;49m])\n\u001b[1;32m    104\u001b[0m \u001b[39melif\u001b[39;00m \u001b[39mnot\u001b[39;00m arg_spec\u001b[39m.\u001b[39mget(\u001b[39m'\u001b[39m\u001b[39moptional\u001b[39m\u001b[39m'\u001b[39m):\n\u001b[1;32m    105\u001b[0m   \u001b[39mraise\u001b[39;00m ee_exception\u001b[39m.\u001b[39mEEException(\n\u001b[1;32m    106\u001b[0m       \u001b[39m'\u001b[39m\u001b[39mRequired argument (\u001b[39m\u001b[39m%s\u001b[39;00m\u001b[39m) missing to function: \u001b[39m\u001b[39m%s\u001b[39;00m\u001b[39m'\u001b[39m\n\u001b[1;32m    107\u001b[0m       \u001b[39m%\u001b[39m (name, signature\u001b[39m.\u001b[39mget(\u001b[39m'\u001b[39m\u001b[39mname\u001b[39m\u001b[39m'\u001b[39m)))\n",
      "File \u001b[0;32m~/miniconda3/envs/rbdml/lib/python3.11/site-packages/ee/__init__.py:245\u001b[0m, in \u001b[0;36m_Promote\u001b[0;34m(arg, a_class)\u001b[0m\n\u001b[1;32m    242\u001b[0m     \u001b[39mreturn\u001b[39;00m Element(arg\u001b[39m.\u001b[39mfunc, arg\u001b[39m.\u001b[39margs, arg\u001b[39m.\u001b[39mvarName)\n\u001b[1;32m    243\u001b[0m   \u001b[39melse\u001b[39;00m:\n\u001b[1;32m    244\u001b[0m     \u001b[39m# No way to convert.\u001b[39;00m\n\u001b[0;32m--> 245\u001b[0m     \u001b[39mraise\u001b[39;00m EEException(\u001b[39m'\u001b[39m\u001b[39mCannot convert \u001b[39m\u001b[39m{0}\u001b[39;00m\u001b[39m to Element.\u001b[39m\u001b[39m'\u001b[39m\u001b[39m.\u001b[39mformat(arg))\n\u001b[1;32m    246\u001b[0m \u001b[39melif\u001b[39;00m a_class \u001b[39m==\u001b[39m \u001b[39m'\u001b[39m\u001b[39mGeometry\u001b[39m\u001b[39m'\u001b[39m:\n\u001b[1;32m    247\u001b[0m   \u001b[39mif\u001b[39;00m \u001b[39misinstance\u001b[39m(arg, Collection):\n",
      "\u001b[0;31mEEException\u001b[0m: Cannot convert month to Element."
     ]
    }
   ],
   "source": [
    "collection = ee.ImageCollection(\"NASA/GPM_L3/IMERG_V06\")\n",
    "collection_min_date = ee.Date(collection.aggregate_min('system:time_start'))\n",
    "collection_max_date = ee.Date(collection.aggregate_max('system:time_start'))\n",
    "collection = collection.select('precipitationCal')\n",
    "\n",
    "for country in df['country']:\n",
    "    # define date range\n",
    "    start = ee.Date.fromYMD(df.loc[df['country'] == country, 'minyear'].item(), 1, 1)\n",
    "    end = ee.Date.fromYMD(df.loc[df['country'] == country, 'maxyear'].item(), 12, 31)\n",
    "\n",
    "    # if dates are outside of collection range\n",
    "    if start.difference(collection_min_date, 'days').getInfo() < 0: \n",
    "        print(\"Data for \"+country+\" starts earlier than dataset.\")\n",
    "        start = collection_min_date\n",
    "    if end.difference(collection_max_date, 'days').getInfo() > 0: \n",
    "        print(\"Data for \"+country+\" extends past dataset limit.\")\n",
    "        end = collection_max_date\n",
    "\n",
    "    region = ee.FeatureCollection('FAO/GAUL/2015/level1').filter(ee.Filter.eq('ADM0_NAME', country))\n",
    "    filtered_collection = collection.filterDate(start, end)\n",
    "\n",
    "    n_days = end.difference(start, 'day').subtract(1)\n",
    "    days = ee.List.sequence(0, n_days).map(lambda n : start.advance(n, 'day'))\n",
    "    daily_collection = ee.ImageCollection(days.map(lambda date: sumDailyPrecip(filtered_collection, date)))\n",
    "\n",
    "    # determine mean for admin region\n",
    "    daily_precip = daily_collection.map(lambda image: image.reduceRegions(\n",
    "        reducer=ee.Reducer.mean().setOutputs(['precipitation']),\n",
    "        collection=region,\n",
    "        scale=10000\n",
    "    )).flatten()\n",
    "\n",
    "    # Export the FeatureCollection to Google Drive as a CSV file\n",
    "    task = ee.batch.Export.table.toDrive(\n",
    "        collection=daily_precip,\n",
    "        description=country+'_sum_GPM',\n",
    "        fileFormat='CSV',\n",
    "        folder='GEE_data/precip_daily',\n",
    "        selectors=['system:index', 'ADM0_CODE',\t'ADM0_NAME', 'ADM1_CODE', 'ADM1_NAME', 'precipitation']\n",
    "    )\n",
    "\n",
    "    # Start the export task\n",
    "    task.start()"
   ]
  },
  {
   "cell_type": "markdown",
   "metadata": {},
   "source": [
    "Trying monthly aggregate from here: https://developers.google.com/earth-engine/datasets/catalog/ECMWF_ERA5_LAND_MONTHLY_AGGR"
   ]
  },
  {
   "cell_type": "code",
   "execution_count": 147,
   "metadata": {},
   "outputs": [
    {
     "data": {
      "text/html": [
       "\n",
       "            <style>\n",
       "                .geemap-dark {\n",
       "                    --jp-widgets-color: white;\n",
       "                    --jp-widgets-label-color: white;\n",
       "                    --jp-ui-font-color1: white;\n",
       "                    --jp-layout-color2: #454545;\n",
       "                    background-color: #383838;\n",
       "                }\n",
       "                    \n",
       "                .geemap-dark .jupyter-button {\n",
       "                    --jp-layout-color3: #383838;\n",
       "                }\n",
       "                \n",
       "                .geemap-colab {\n",
       "                    background-color: var(--colab-primary-surface-color, white);\n",
       "                }\n",
       "                    \n",
       "                .geemap-colab .jupyter-button {\n",
       "                    --jp-layout-color3: var(--colab-primary-surface-color, white);\n",
       "                }\n",
       "            </style>\n",
       "            "
      ],
      "text/plain": [
       "<IPython.core.display.HTML object>"
      ]
     },
     "metadata": {},
     "output_type": "display_data"
    },
    {
     "name": "stdout",
     "output_type": "stream",
     "text": [
      "Data for China extends past dataset limit.\n",
      "Data for Finland extends past dataset limit.\n",
      "Data for Germany extends past dataset limit.\n",
      "Data for Nigeria extends past dataset limit.\n",
      "Data for Sweden extends past dataset limit.\n"
     ]
    }
   ],
   "source": [
    "collection = ee.ImageCollection(\"ECMWF/ERA5_LAND/MONTHLY_AGGR\")\n",
    "collection_min_date = ee.Date(collection.aggregate_min('system:time_start'))\n",
    "collection_max_date = ee.Date(collection.aggregate_max('system:time_start'))\n",
    "collection = collection.select('total_precipitation_sum')\n",
    "\n",
    "for country in df['country']:\n",
    "    # define date range\n",
    "    start = ee.Date.fromYMD(df.loc[df['country'] == country, 'minyear'].item(), 1, 1)\n",
    "    end = ee.Date.fromYMD(df.loc[df['country'] == country, 'maxyear'].item(), 12, 31)\n",
    "\n",
    "    # if dates are outside of collection range\n",
    "    if start.difference(collection_min_date, 'days').getInfo() < 0: \n",
    "        print(\"Data for \"+country+\" starts earlier than dataset.\")\n",
    "        start = collection_min_date\n",
    "    if end.difference(collection_max_date, 'days').getInfo() > 0: \n",
    "        print(\"Data for \"+country+\" extends past dataset limit.\")\n",
    "        end = collection_max_date\n",
    "    \n",
    "    region = ee.FeatureCollection('FAO/GAUL/2015/level1').filter(ee.Filter.eq('ADM0_NAME', country))\n",
    "    filtered_collection = collection.filterDate(start, end)\n",
    "\n",
    "   # n_days = end.difference(start, 'day').subtract(1)\n",
    "   # days = ee.List.sequence(0, n_days).map(lambda n : start.advance(n, 'day'))\n",
    "   # daily_collection = ee.ImageCollection(days.map(lambda date: sumDailyPrecip(filtered_collection, date)))\n",
    "\n",
    "    # determine mean for admin region\n",
    "    monthly_precip = collection.map(lambda image: image.reduceRegions(\n",
    "        reducer=ee.Reducer.mean().setOutputs(['precipitation_m']),\n",
    "        collection=region,\n",
    "        scale=10000\n",
    "    )).flatten()\n",
    "\n",
    "    # Export the FeatureCollection to Google Drive as a CSV file\n",
    "    task = ee.batch.Export.table.toDrive(\n",
    "        collection=daily_precip,\n",
    "        description=country+'_monthly_GPM',\n",
    "        fileFormat='CSV',\n",
    "        folder='GEE_data/precip_monthly',\n",
    "        selectors=['system:index', 'ADM0_CODE',\t'ADM0_NAME', 'ADM1_CODE', 'ADM1_NAME', 'precipitation_m']\n",
    "    )\n",
    "\n",
    "    # Start the export task\n",
    "    task.start()"
   ]
  },
  {
   "cell_type": "code",
   "execution_count": 34,
   "metadata": {},
   "outputs": [],
   "source": [
    "val = img.get('HQ_Precipitation')"
   ]
  },
  {
   "cell_type": "code",
   "execution_count": 39,
   "metadata": {},
   "outputs": [
    {
     "name": "stdout",
     "output_type": "stream",
     "text": [
      "ee.Image({\n",
      "  \"functionInvocationValue\": {\n",
      "    \"functionName\": \"Collection.first\",\n",
      "    \"arguments\": {\n",
      "      \"collection\": {\n",
      "        \"functionInvocationValue\": {\n",
      "          \"functionName\": \"ImageCollection.load\",\n",
      "          \"arguments\": {\n",
      "            \"id\": {\n",
      "              \"constantValue\": \"UCSB-CHG/CHIRPS/DAILY\"\n",
      "            }\n",
      "          }\n",
      "        }\n",
      "      }\n",
      "    }\n",
      "  }\n",
      "})\n"
     ]
    }
   ],
   "source": [
    "collection = ee.ImageCollection('UCSB-CHG/CHIRPS/DAILY')\n",
    "print(collection.first())"
   ]
  },
  {
   "cell_type": "code",
   "execution_count": 40,
   "metadata": {},
   "outputs": [
    {
     "name": "stdout",
     "output_type": "stream",
     "text": [
      "Starting task for Austria\n",
      "Starting task for Brazil\n",
      "Data for Chile starts earlier than dataset.\n",
      "Starting task for Chile\n",
      "Starting task for China\n",
      "Data for Finland starts earlier than dataset.\n",
      "Starting task for Finland\n",
      "Starting task for France\n",
      "Starting task for Germany\n",
      "Starting task for Nigeria\n",
      "Starting task for Norway\n",
      "Starting task for Slovakia\n",
      "Starting task for Slovenia\n",
      "Starting task for Sweden\n",
      "Data for United States of America starts earlier than dataset.\n",
      "Starting task for United States of America\n"
     ]
    }
   ],
   "source": [
    "collection = ee.ImageCollection(\"NASA/GPM_L3/IMERG_V06\")\n",
    "collection_min_date = ee.Date(collection.aggregate_min('system:time_start'))\n",
    "collection_max_date = ee.Date(collection.aggregate_max('system:time_start'))\n",
    "collection = collection.select('precipitationCal')\n",
    "\n",
    "for country in df['country']:\n",
    "    # define date range\n",
    "    start = ee.Date.fromYMD(df.loc[df['country'] == country, 'minyear'].item(), 1, 1)\n",
    "    end = ee.Date.fromYMD(df.loc[df['country'] == country, 'maxyear'].item(), 12, 31)\n",
    "\n",
    "    # if dates are outside of collection range\n",
    "    if start.difference(collection_min_date, 'days').getInfo() < 0: \n",
    "        print(\"Data for \"+country+\" starts earlier than dataset.\")\n",
    "        start = collection_min_date\n",
    "    if end.difference(collection_max_date, 'days').getInfo() > 0: \n",
    "        print(\"Data for \"+country+\" extends past dataset limit.\")\n",
    "        end = collection_max_date\n",
    "    \n",
    "    region = ee.FeatureCollection('FAO/GAUL/2015/level1').filter(ee.Filter.eq('ADM0_NAME', country))\n",
    "    filtered_collection = collection.filterDate(start, end)\n",
    "\n",
    "    n_days = end.difference(start, 'day').subtract(1)\n",
    "    days = ee.List.sequence(0, n_days).map(lambda n : start.advance(n, 'day'))\n",
    "    daily_collection = ee.ImageCollection(days.map(lambda date: sumDailyPrecip(filtered_collection, date)))\n",
    "\n",
    "    # determine mean for admin region\n",
    "    daily_precip = daily_collection.map(lambda image: image.reduceRegions(\n",
    "        reducer=ee.Reducer.mean().setOutputs(['precipitation']),\n",
    "        collection=region,\n",
    "        scale=10000\n",
    "    )).flatten()\n",
    "\n",
    "    # Export the FeatureCollection to Google Drive as a CSV file\n",
    "    task = ee.batch.Export.table.toDrive(\n",
    "        collection=daily_precip,\n",
    "        description=country+'_GPM',\n",
    "        fileFormat='CSV',\n",
    "        folder='GEE_data/precip',\n",
    "        selectors=['system:index', 'ADM0_CODE',\t'ADM0_NAME', 'ADM1_CODE', 'ADM1_NAME', 'precipitation']\n",
    "    )\n",
    "\n",
    "    # Start the export task\n",
    "    task.start()\n",
    "    print('Starting task for '+ country)"
   ]
  },
  {
   "cell_type": "markdown",
   "metadata": {},
   "source": [
    "## MODIS EVI DATA"
   ]
  },
  {
   "cell_type": "code",
   "execution_count": 91,
   "metadata": {},
   "outputs": [
    {
     "data": {
      "text/html": [
       "\n",
       "            <style>\n",
       "                .geemap-dark {\n",
       "                    --jp-widgets-color: white;\n",
       "                    --jp-widgets-label-color: white;\n",
       "                    --jp-ui-font-color1: white;\n",
       "                    --jp-layout-color2: #454545;\n",
       "                    background-color: #383838;\n",
       "                }\n",
       "                    \n",
       "                .geemap-dark .jupyter-button {\n",
       "                    --jp-layout-color3: #383838;\n",
       "                }\n",
       "                \n",
       "                .geemap-colab {\n",
       "                    background-color: var(--colab-primary-surface-color, white);\n",
       "                }\n",
       "                    \n",
       "                .geemap-colab .jupyter-button {\n",
       "                    --jp-layout-color3: var(--colab-primary-surface-color, white);\n",
       "                }\n",
       "            </style>\n",
       "            "
      ],
      "text/plain": [
       "<IPython.core.display.HTML object>"
      ]
     },
     "metadata": {},
     "output_type": "display_data"
    },
    {
     "name": "stdout",
     "output_type": "stream",
     "text": [
      "Data for Finland starts earlier than dataset.\n",
      "Data for Finland extends past dataset limit.\n",
      "Starting task for Finland\n"
     ]
    }
   ],
   "source": [
    "collection = ee.ImageCollection(\"MODIS/061/MOD13A2\")\n",
    "collection_min_date = ee.Date(collection.aggregate_min('system:time_start'))\n",
    "collection_max_date = ee.Date(collection.aggregate_max('system:time_start'))\n",
    "\n",
    "#for country in ['Finland']:\n",
    "country = 'Finland'\n",
    "# define date range\n",
    "start = ee.Date.fromYMD(df.loc[df['country'] == country, 'minyear'].item(), 1, 1)\n",
    "end = ee.Date.fromYMD(df.loc[df['country'] == country, 'maxyear'].item(), 12, 31)\n",
    "\n",
    "# if dates are outside of collection range\n",
    "if start.difference(collection_min_date, 'days').getInfo() < 0: \n",
    "    print(\"Data for \"+country+\" starts earlier than dataset.\")\n",
    "    start = collection_min_date\n",
    "if end.difference(collection_max_date, 'days').getInfo() > 0: \n",
    "    print(\"Data for \"+country+\" extends past dataset limit.\")\n",
    "    end = collection_max_date\n",
    "\n",
    "region = ee.FeatureCollection('FAO/GAUL/2015/level2').filter(ee.Filter.eq('ADM0_NAME', country))\n",
    "filtered_collection = collection.filterDate(start, end)\n",
    "\n",
    "# determine mean for admin region\n",
    "daily_evi = filtered_collection.map(lambda image: image.reduceRegions(\n",
    "    reducer=ee.Reducer.mean().setOutputs(['EVI']),\n",
    "    collection=region,\n",
    "    scale=1000\n",
    ")).flatten()\n",
    "\n",
    "# Export the FeatureCollection to Google Drive as a CSV file\n",
    "task = ee.batch.Export.table.toDrive(\n",
    "    collection=daily_evi,\n",
    "    description=country+'_MonthlyModisEVI',\n",
    "    fileFormat='CSV',\n",
    "    folder='GEE_data',\n",
    "    selectors=['system:index', 'ADM0_CODE',\t'ADM0_NAME', 'ADM1_CODE', 'ADM1_NAME', 'ADM2_CODE', 'ADM2_NAME', 'EVI']\n",
    ")\n",
    "\n",
    "# Start the export task\n",
    "task.start()\n",
    "print('Starting task for '+ country)"
   ]
  },
  {
   "cell_type": "markdown",
   "metadata": {},
   "source": [
    "### Organize downloaded data"
   ]
  },
  {
   "cell_type": "code",
   "execution_count": 80,
   "metadata": {},
   "outputs": [
    {
     "data": {
      "text/html": [
       "\n",
       "            <style>\n",
       "                .geemap-dark {\n",
       "                    --jp-widgets-color: white;\n",
       "                    --jp-widgets-label-color: white;\n",
       "                    --jp-ui-font-color1: white;\n",
       "                    --jp-layout-color2: #454545;\n",
       "                    background-color: #383838;\n",
       "                }\n",
       "                    \n",
       "                .geemap-dark .jupyter-button {\n",
       "                    --jp-layout-color3: #383838;\n",
       "                }\n",
       "                \n",
       "                .geemap-colab {\n",
       "                    background-color: var(--colab-primary-surface-color, white);\n",
       "                }\n",
       "                    \n",
       "                .geemap-colab .jupyter-button {\n",
       "                    --jp-layout-color3: var(--colab-primary-surface-color, white);\n",
       "                }\n",
       "            </style>\n",
       "            "
      ],
      "text/plain": [
       "<IPython.core.display.HTML object>"
      ]
     },
     "metadata": {},
     "output_type": "display_data"
    }
   ],
   "source": [
    "data_dir = '/Users/natai/Projects/RBDML/data/climate/'"
   ]
  },
  {
   "cell_type": "code",
   "execution_count": 84,
   "metadata": {},
   "outputs": [
    {
     "data": {
      "text/html": [
       "\n",
       "            <style>\n",
       "                .geemap-dark {\n",
       "                    --jp-widgets-color: white;\n",
       "                    --jp-widgets-label-color: white;\n",
       "                    --jp-ui-font-color1: white;\n",
       "                    --jp-layout-color2: #454545;\n",
       "                    background-color: #383838;\n",
       "                }\n",
       "                    \n",
       "                .geemap-dark .jupyter-button {\n",
       "                    --jp-layout-color3: #383838;\n",
       "                }\n",
       "                \n",
       "                .geemap-colab {\n",
       "                    background-color: var(--colab-primary-surface-color, white);\n",
       "                }\n",
       "                    \n",
       "                .geemap-colab .jupyter-button {\n",
       "                    --jp-layout-color3: var(--colab-primary-surface-color, white);\n",
       "                }\n",
       "            </style>\n",
       "            "
      ],
      "text/plain": [
       "<IPython.core.display.HTML object>"
      ]
     },
     "metadata": {},
     "output_type": "display_data"
    }
   ],
   "source": [
    "# define a dictionary for filename, value name, and unit\n",
    "\n",
    "climate_factors = {'DailyLST': ['mean_lst', 'celcius'],\n",
    "            'CHIRPSPrecip': ['precipitation', 'mm'],\n",
    "            'ModisEVI': ['EVI', 'spectral index']\n",
    "            }"
   ]
  },
  {
   "cell_type": "code",
   "execution_count": 104,
   "metadata": {},
   "outputs": [
    {
     "data": {
      "text/html": [
       "\n",
       "            <style>\n",
       "                .geemap-dark {\n",
       "                    --jp-widgets-color: white;\n",
       "                    --jp-widgets-label-color: white;\n",
       "                    --jp-ui-font-color1: white;\n",
       "                    --jp-layout-color2: #454545;\n",
       "                    background-color: #383838;\n",
       "                }\n",
       "                    \n",
       "                .geemap-dark .jupyter-button {\n",
       "                    --jp-layout-color3: #383838;\n",
       "                }\n",
       "                \n",
       "                .geemap-colab {\n",
       "                    background-color: var(--colab-primary-surface-color, white);\n",
       "                }\n",
       "                    \n",
       "                .geemap-colab .jupyter-button {\n",
       "                    --jp-layout-color3: var(--colab-primary-surface-color, white);\n",
       "                }\n",
       "            </style>\n",
       "            "
      ],
      "text/plain": [
       "<IPython.core.display.HTML object>"
      ]
     },
     "metadata": {},
     "output_type": "display_data"
    }
   ],
   "source": [
    "# get and combine files\n",
    "climate_df_list = []\n",
    "\n",
    "for key, value in climate_factors.items():\n",
    "    ext = key + '.csv'\n",
    "    files = [file for file in os.listdir(data_dir) if file.endswith(ext)]\n",
    "\n",
    "    df_list = []\n",
    "\n",
    "    # create dataframe list\n",
    "    for file_name in files:\n",
    "        file_path = os.path.join(data_dir, file_name)\n",
    "        df = pd.read_csv(file_path)  \n",
    "        df_list.append(df)\n",
    "\n",
    "    # combine to one dataframe\n",
    "    climate_df = pd.concat(df_list, ignore_index=True)\n",
    "\n",
    "    # rename column \n",
    "    climate_df.rename(columns={value[0]: 'value'}, inplace=True)\n",
    "    climate_df['measure'] = value[0]\n",
    "    climate_df['unit'] = value[1]\n",
    "\n",
    "    # fix date column\n",
    "    if key != 'CHIRPSPrecip':\n",
    "        climate_df[['year', 'month', 'day', 'index']] = climate_df['system:index'].str.split('_', expand=True)\n",
    "    else:\n",
    "        climate_df['year'] = climate_df['system:index'].str[:4]\n",
    "        climate_df['month'] = climate_df['system:index'].str[4:6]\n",
    "        climate_df['day'] = climate_df['system:index'].str[6:8]\n",
    "        climate_df['index'] = climate_df['system:index'].str[9:]\n",
    "\n",
    "    climate_df = climate_df.drop(columns=['system:index', 'index'])\n",
    "\n",
    "    # summarize by month\n",
    "    if key != 'CHIRPSPrecip':\n",
    "        climate_df = climate_df.groupby(['ADM1_NAME', 'ADM1_CODE', 'year', 'month']).agg({\n",
    "            'value': 'mean',\n",
    "            'ADM0_CODE': 'first',  \n",
    "            'ADM0_NAME': 'first',\n",
    "            'measure': 'first',\n",
    "            'unit': 'first',\n",
    "        }).reset_index()\n",
    "    else:\n",
    "        climate_df = climate_df.groupby(['ADM1_NAME', 'ADM1_CODE', 'year', 'month']).agg({\n",
    "            'value': 'sum',\n",
    "            'ADM0_CODE': 'first',  \n",
    "            'ADM0_NAME': 'first',\n",
    "            'measure': 'first',\n",
    "            'unit': 'first',\n",
    "        }).reset_index()\n",
    "\n",
    "    # add to list of dataframes\n",
    "    climate_df_list.append(climate_df)"
   ]
  },
  {
   "cell_type": "code",
   "execution_count": 106,
   "metadata": {},
   "outputs": [
    {
     "data": {
      "text/html": [
       "\n",
       "            <style>\n",
       "                .geemap-dark {\n",
       "                    --jp-widgets-color: white;\n",
       "                    --jp-widgets-label-color: white;\n",
       "                    --jp-ui-font-color1: white;\n",
       "                    --jp-layout-color2: #454545;\n",
       "                    background-color: #383838;\n",
       "                }\n",
       "                    \n",
       "                .geemap-dark .jupyter-button {\n",
       "                    --jp-layout-color3: #383838;\n",
       "                }\n",
       "                \n",
       "                .geemap-colab {\n",
       "                    background-color: var(--colab-primary-surface-color, white);\n",
       "                }\n",
       "                    \n",
       "                .geemap-colab .jupyter-button {\n",
       "                    --jp-layout-color3: var(--colab-primary-surface-color, white);\n",
       "                }\n",
       "            </style>\n",
       "            "
      ],
      "text/plain": [
       "<IPython.core.display.HTML object>"
      ]
     },
     "metadata": {},
     "output_type": "display_data"
    }
   ],
   "source": [
    "# combine dfs\n",
    "#df = pd.concat(climate_df_list, ignore_index=True)\n",
    "\n",
    "# change column order\n",
    "#df = df[['ADM0_NAME', 'ADM0_CODE', 'ADM1_NAME', 'ADM1_CODE', 'year', 'month', 'value', 'measure', 'unit']]\n",
    "\n",
    "# save\n",
    "df.to_csv(os.path.join(data_dir, '../processed/climate_data.csv'), index=False)"
   ]
  }
 ],
 "metadata": {
  "kernelspec": {
   "display_name": "rbdml",
   "language": "python",
   "name": "python3"
  },
  "language_info": {
   "codemirror_mode": {
    "name": "ipython",
    "version": 3
   },
   "file_extension": ".py",
   "mimetype": "text/x-python",
   "name": "python",
   "nbconvert_exporter": "python",
   "pygments_lexer": "ipython3",
   "version": "3.11.0"
  },
  "orig_nbformat": 4
 },
 "nbformat": 4,
 "nbformat_minor": 2
}
